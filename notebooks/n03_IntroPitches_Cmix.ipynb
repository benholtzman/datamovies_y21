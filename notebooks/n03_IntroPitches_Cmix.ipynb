{
 "cells": [
  {
   "cell_type": "markdown",
   "metadata": {},
   "source": [
    "##  Pitches, scales, elements, frequencies, etc. IN RTcmix ! \n",
    "### (1) Pitches, Scales and Modes -- Dictionaries and lists\n",
    "### (2) Generating RTcmix scores from lists of pitches"
   ]
  },
  {
   "cell_type": "code",
   "execution_count": 1,
   "metadata": {},
   "outputs": [
    {
     "name": "stdout",
     "output_type": "stream",
     "text": [
      "CMIX found.\n"
     ]
    }
   ],
   "source": [
    "import numpy as np\n",
    "import matplotlib.pyplot as plt\n",
    "%matplotlib inline\n",
    "\n",
    "from subprocess import Popen\n",
    "import subprocess as sp\n",
    "import os\n",
    "\n",
    "import sys\n",
    "sys.path.append('./modules/')\n",
    "\n",
    "import IPython.display as ipd\n",
    "\n",
    "# _ac stands for autocheck\n",
    "cmixStatus, cmixResult = sp.getstatusoutput(\"CMIX\")\n",
    "if cmixStatus == 0:\n",
    "    cmixInstalled = True\n",
    "    print(\"CMIX found.\")\n",
    "else:\n",
    "    cmixInstalled = False\n",
    "    print(\"CMIX not found, using pyGoRTcmix instead.\")\n",
    "\n",
    "#for testing:\n",
    "cmixInstalled = False"
   ]
  },
  {
   "cell_type": "markdown",
   "metadata": {},
   "source": [
    "# ==============================================\n",
    "# (1) modes, review"
   ]
  },
  {
   "cell_type": "markdown",
   "metadata": {},
   "source": [
    "### Equal temperament (modern western instruments): \n",
    "\n",
    "In classical western music, the octave is divided into 12 equal-sized \"semi-tone\" intervals: <br>\n",
    "$f = f_0*2^{(k/N)+v}$ <br>\n",
    "$v$ is an integer that marks how many octaves you want to be relative to $f_0$ <br>\n",
    "$k$ are integers that representing intervals of the N that make the octave (on the piano N=12). <br>\n",
    "\n",
    "\n"
   ]
  },
  {
   "cell_type": "code",
   "execution_count": 2,
   "metadata": {},
   "outputs": [
    {
     "name": "stdout",
     "output_type": "stream",
     "text": [
      "[ 0  1  2  3  4  5  6  7  8  9 10 11]\n",
      "[ 0  1  2  3  4  5  6  7  8  9 10 11]\n",
      "[ 0  1  2  3  4  5  6  7  8  9 10 11 12]\n",
      "all semi-tones:\n",
      "[220.         233.08188076 246.94165063 261.6255653  277.18263098\n",
      " 293.66476792 311.12698372 329.62755691 349.22823143 369.99442271\n",
      " 391.99543598 415.30469758 440.        ]\n",
      "major scale:\n",
      "[ 0  2  4  5  7  9 11 12]\n",
      "[220.         246.94165063 277.18263098 293.66476792 329.62755691\n",
      " 369.99442271 415.30469758 440.        ]\n"
     ]
    }
   ],
   "source": [
    "# make an array of integers: \n",
    "k = np.arange(0,12,1) # this makes a numpy array. \n",
    "print(k)\n",
    "k = np.arange(12)\n",
    "print(k)\n",
    "k = np.arange(12+1)\n",
    "print(k)\n",
    "\n",
    "# ==============================\n",
    "v = 0\n",
    "root = 220 # A3\n",
    "print('all semi-tones:')\n",
    "f = root*2**(v+k/12)\n",
    "print(f)\n",
    "\n",
    "print('major scale:')\n",
    "# intervals 2,2,1,2,2,2,1 \n",
    "major = np.array([0,2,4,5,7,9,11,12])\n",
    "print(major)\n",
    "f = root*2**(v+major/12)\n",
    "print(f)"
   ]
  },
  {
   "cell_type": "code",
   "execution_count": 3,
   "metadata": {},
   "outputs": [
    {
     "data": {
      "image/png": "[encoded data removed]",
      "text/plain": [
       "<Figure size 360x360 with 1 Axes>"
      ]
     },
     "metadata": {
      "needs_background": "light"
     },
     "output_type": "display_data"
    }
   ],
   "source": [
    "fig = plt.figure(figsize=(5,5))\n",
    "plt.plot(major,f, 'ro')\n",
    "plt.xlabel('scale element')\n",
    "plt.ylabel('frequency')\n",
    "plt.show()"
   ]
  },
  {
   "cell_type": "markdown",
   "metadata": {},
   "source": [
    "### OR, represented another way: "
   ]
  },
  {
   "cell_type": "code",
   "execution_count": 4,
   "metadata": {},
   "outputs": [],
   "source": [
    "import matplotlib.patches as patches\n",
    "\n",
    "def makePitchRing(indexes):\n",
    "    circle = np.linspace(0,2*np.pi,64)\n",
    "    r = 1.0\n",
    "    x = r*np.sin(circle)\n",
    "    y = r*np.cos(circle)\n",
    "\n",
    "    # the note locations. \n",
    "    base_dots = np.linspace(0,2*np.pi,13)\n",
    "    xd = r*np.sin(base_dots)\n",
    "    yd = r*np.cos(base_dots)\n",
    "\n",
    "    # the text locations\n",
    "    r = 1.15\n",
    "    xt = r*np.sin(base_dots)\n",
    "    yt = r*np.cos(base_dots)\n",
    "\n",
    "    # ========================\n",
    "    fig1 = plt.figure()\n",
    "    ax1 = fig1.add_subplot(111, aspect='equal')\n",
    "\n",
    "    # (0) plot a filled square with a filled circle in it...\n",
    "    # patches.Rectangle((x,y,lower left corner),width,height)\n",
    "    #ax1.add_patch(patches.Rectangle((0.1, 0.1),0.5,0.5,facecolor=\"red\"))\n",
    "\n",
    "    ax1.add_patch(patches.Rectangle((-1.25, -1.25),2.5,2.5,facecolor=[0.6, 0.6, 0.6]))\n",
    "    ax1.plot(x,y,'k-')\n",
    "    ax1.plot(xd,yd,'w.')\n",
    "\n",
    "    radius_norm = 0.08  # radius normalized, scaled to size of box\n",
    "\n",
    "    for ind,interval in enumerate(indexes):\n",
    "        # print(ind,interval)\n",
    "        ax1.add_patch(patches.Circle((xd[interval], yd[interval]),radius_norm,facecolor=\"red\")) \n",
    "        ax1.text(xt[interval], yt[interval],pitch_classes[interval])\n",
    "        \n",
    "    ax1.get_xaxis().set_visible(False)\n",
    "    ax1.get_yaxis().set_visible(False)\n",
    "    plt.show()\n"
   ]
  },
  {
   "cell_type": "code",
   "execution_count": 5,
   "metadata": {},
   "outputs": [
    {
     "data": {
      "image/png": "[encoded data removed]",
      "text/plain": [
       "<Figure size 432x288 with 1 Axes>"
      ]
     },
     "metadata": {
      "needs_background": "light"
     },
     "output_type": "display_data"
    }
   ],
   "source": [
    "pitch_classes = ['c','c#','d','d#','e','f','f#','g','g#','a','a#','b']\n",
    "#indexes = [0,2,4,5,7,9,11]\n",
    "#makePitchRing(indexes)\n",
    "makePitchRing(major[0:-1])"
   ]
  },
  {
   "cell_type": "code",
   "execution_count": 6,
   "metadata": {},
   "outputs": [
    {
     "name": "stdout",
     "output_type": "stream",
     "text": [
      "261.6255653005986\n",
      "[ 0  1  2  3  4  5  6  7  8  9 10 11]\n",
      "[261.6255653  277.18263098 293.66476792 311.12698372 329.62755691\n",
      " 349.22823143 369.99442271 391.99543598 415.30469758 440.\n",
      " 466.16376152 493.88330126]\n"
     ]
    }
   ],
   "source": [
    "# Now lets make a sort of data base for pitches... \n",
    "# to connect names to pitches, \n",
    "# and \n",
    "\n",
    "C3 = 440.0 * 2**(3/12-1)\n",
    "print(C3)\n",
    "\n",
    "def notenum2freq(k,v,f0):\n",
    "    freqs = f0*2**(v+k/12)\n",
    "    return freqs\n",
    "\n",
    "ints = np.arange(12)\n",
    "print(ints)\n",
    "ref_scale_freqs = notenum2freq(ints,0,C3)\n",
    "print(ref_scale_freqs)"
   ]
  },
  {
   "cell_type": "code",
   "execution_count": 7,
   "metadata": {},
   "outputs": [],
   "source": [
    "# using dictionaries: \n",
    "# https://learnpythonthehardway.org/book/ex39.html\n",
    "# https://jeffknupp.com/blog/2015/08/30/python-dictionaries/\n",
    "\n",
    "# a list of dictionaries: \n",
    "# http://stackoverflow.com/questions/19577258/python-analog-to-matlab-data-structure\n",
    "# database.append({'E': 17e4, 'var2': 'C:\\\\data file path', 'var3': [1, 2, 3, 4]})\n",
    "pitch_classes = ['c','c#','d','d#','e','f','f#','g','g#','a','a#','b']\n",
    "\n",
    "# does it make any sense to make a dictionary here?\n",
    "#pitches_midC_ref = {'pitches':pitch_classes, 'freqs':ref_scale_freqs }\n",
    "#pitch_names = pitches_midC_ref['pitches']\n",
    "#freqs = pitches_midC_ref['freqs']\n"
   ]
  },
  {
   "cell_type": "code",
   "execution_count": 8,
   "metadata": {},
   "outputs": [
    {
     "name": "stdout",
     "output_type": "stream",
     "text": [
      "('c', 261.6255653005986)\n",
      "('c#', 277.1826309768721)\n",
      "('d', 293.6647679174076)\n",
      "('d#', 311.12698372208087)\n",
      "('e', 329.6275569128699)\n",
      "('f', 349.2282314330039)\n",
      "('f#', 369.9944227116344)\n",
      "('g', 391.99543598174927)\n",
      "('g#', 415.30469757994507)\n",
      "('a', 439.99999999999994)\n",
      "('a#', 466.16376151808987)\n",
      "('b', 493.88330125612407)\n",
      "c : 261.6255653005986\n",
      "c# : 277.1826309768721\n",
      "d : 293.6647679174076\n",
      "d# : 311.12698372208087\n",
      "e : 329.6275569128699\n",
      "f : 349.2282314330039\n",
      "f# : 369.9944227116344\n",
      "g : 391.99543598174927\n",
      "g# : 415.30469757994507\n",
      "a : 439.99999999999994\n",
      "a# : 466.16376151808987\n",
      "b : 493.88330125612407\n"
     ]
    }
   ],
   "source": [
    "for pair in zip(pitch_classes,ref_scale_freqs):\n",
    "    print(pair)\n",
    "\n",
    "for ind,pitchname in enumerate(pitch_classes):\n",
    "    print(pitchname + ' : ' + str(ref_scale_freqs[ind]))\n",
    "    "
   ]
  },
  {
   "cell_type": "code",
   "execution_count": 9,
   "metadata": {},
   "outputs": [
    {
     "name": "stdout",
     "output_type": "stream",
     "text": [
      "{'c': 261.6255653005986, 'c#': 277.1826309768721, 'd': 293.6647679174076, 'd#': 311.12698372208087, 'e': 329.6275569128699, 'f': 349.2282314330039, 'f#': 369.9944227116344, 'g': 391.99543598174927, 'g#': 415.30469757994507, 'a': 439.99999999999994, 'a#': 466.16376151808987, 'b': 493.88330125612407}\n"
     ]
    }
   ],
   "source": [
    "# or make a dictionary ! \n",
    "pitch_freq_ref = dict(zip(pitch_classes,ref_scale_freqs))\n",
    "\n",
    "pitch_freq_ref\n",
    "print(pitch_freq_ref)\n"
   ]
  },
  {
   "cell_type": "code",
   "execution_count": 10,
   "metadata": {},
   "outputs": [
    {
     "name": "stdout",
     "output_type": "stream",
     "text": [
      "============== CALL ONE PITCH NAME ============\n",
      "C3 = 261.6255653005986\n"
     ]
    }
   ],
   "source": [
    "print('============== CALL ONE PITCH NAME ============')\n",
    "C3 = pitch_freq_ref['c']\n",
    "print('C3 = '+ str(C3))"
   ]
  },
  {
   "cell_type": "markdown",
   "metadata": {},
   "source": [
    "# =============================================\n",
    "# (4) Modes -- Dictionaries and lists"
   ]
  },
  {
   "cell_type": "code",
   "execution_count": 11,
   "metadata": {},
   "outputs": [
    {
     "name": "stdout",
     "output_type": "stream",
     "text": [
      "7\n"
     ]
    }
   ],
   "source": [
    "# NOW LETS MAKE DICTIONARIES FOR THE MODES !! \n",
    "\n",
    "modes = {\n",
    "    'ionian':[2,2,1,2,2,2,1],\n",
    "    'dorian':[2,1,2,2,2,1,2],\n",
    "    'phrygian':[1,2,2,2,1,2,2],\n",
    "    'lydian':[2,2,2,1,2,2,1],\n",
    "    'mixolydian':[2,2,1,2,2,1,2],\n",
    "    'aeolian':[2,1,2,2,1,2,2],\n",
    "    'lochrian':[1,2,2,1,2,2,2]\n",
    "}\n",
    "\n",
    "print(len(modes))"
   ]
  },
  {
   "cell_type": "code",
   "execution_count": 12,
   "metadata": {},
   "outputs": [
    {
     "name": "stdout",
     "output_type": "stream",
     "text": [
      "[2, 2, 1, 2, 2, 2, 1]\n",
      "[ 2  4  5  7  9 11 12]\n",
      "<class 'numpy.ndarray'>\n"
     ]
    }
   ],
   "source": [
    "# calculate the elements of the scale from the intervals (a cumulative sum): \n",
    "\n",
    "intervals = modes['ionian']\n",
    "print(intervals)\n",
    "\n",
    "x = np.cumsum(intervals)\n",
    "print(x)\n",
    "indexes2 = [0]\n",
    "for val in x[:-1]:\n",
    "    indexes2.append(val)\n",
    "\n",
    "indexes2 = np.array(indexes2)\n",
    "print(type(indexes2))"
   ]
  },
  {
   "cell_type": "code",
   "execution_count": 13,
   "metadata": {},
   "outputs": [
    {
     "data": {
      "image/png": "[encoded data removed]",
      "text/plain": [
       "<Figure size 432x288 with 1 Axes>"
      ]
     },
     "metadata": {
      "needs_background": "light"
     },
     "output_type": "display_data"
    }
   ],
   "source": [
    "makePitchRing(indexes2)"
   ]
  },
  {
   "cell_type": "code",
   "execution_count": null,
   "metadata": {},
   "outputs": [],
   "source": []
  },
  {
   "cell_type": "markdown",
   "metadata": {},
   "source": [
    "# ==========================================================\n",
    "# (6) generating RTcmix scores from simple lists of pitches\n",
    "### same as above but with RTcmix"
   ]
  },
  {
   "cell_type": "code",
   "execution_count": 14,
   "metadata": {},
   "outputs": [],
   "source": [
    "# FUNCTION FOR GENERATING THE RTcmix score ! \n",
    "\n",
    "def makeSimpleScore(base_name,time,freqs):\n",
    "    # ====================\n",
    "    score_name = base_name + '.sco'\n",
    "    print(score_name)\n",
    "    f_out = open(\"./\" + score_name , 'w')\n",
    "    # YOU MUST DELETE THE SOUND FILE BEFORE RUNNING (either with python or with -clobber )\n",
    "    f_out.write(\"set_option(\\\"clobber = on\\\")\\n\")\n",
    "\n",
    "    f_out.write(\"rtsetparams(44100, 1)\\n\")\n",
    "    f_out.write(\"load(\\\"WAVETABLE\\\")\\n\")\n",
    "\n",
    "    # output_string = 'rtoutput(\\\"' + base_name + '.wav\\\")\\n'  \n",
    "    # don't need the brackets to make it an array ! \n",
    "    # f_out.write(output_string)\n",
    "\n",
    "    #----------------------CHECK IF CMIX COMMAND IS INSTALLED-----------------------\n",
    "    #only use rtoutput if CMIX command is found.\n",
    "    cmixStatus, cmixResult = sp.getstatusoutput(\"CMIX\")\n",
    "    #the cmixInstalled variable can also be passed from the notebook\n",
    "    #in that is case, the output of sp.getstatusoutput(\"CMIX\") is overridden\n",
    "\n",
    "    if cmixInstalled:\n",
    "        cmixStatus = 0\n",
    "    else:\n",
    "        cmixStatus = 127\n",
    "\n",
    "    if cmixStatus == 0:\n",
    "        output_string = 'rtoutput(\\\"' + base_name + '.wav\\\")\\n'\n",
    "        # don't need the brackets to make it an array !\n",
    "        print(\"CMIX found.\")\n",
    "        print(output_string)\n",
    "        f_out.write(output_string)\n",
    "    else:\n",
    "        print(\"CMIX not found; rtoutput() will not be used in score.\")\n",
    "    #------------------------------------------------------------------------------\n",
    "    \n",
    "    f_out.write(\"waveform = maketable(\\\"wave\\\", 1000, 1.0)\\n\")\n",
    "    # to add overtones, just add amplitude weights\n",
    "    #f_out.write(\"waveform = maketable(\\\"wave\\\", 1000, 1.0, 0.4, 0.2)\\n\")\n",
    "\n",
    "    f_out.write(\"ampenv = maketable(\\\"window\\\", 1000, \\\"hamming\\\")\\n\")    \n",
    "\n",
    "    # write out the score ! \n",
    "    # (start time, duration, amplitude, frequency, channel mix [0 left, 1.0 right],\n",
    "    # table_handle (which waveform to use)\n",
    "\n",
    "    # for now, constants: \n",
    "            \n",
    "    # reset(44100) makes it very very smooth... \n",
    "            \n",
    "    amp = 10000 \n",
    "    mix = 1.0 # 0 = left, 1 = right, but here just 1 channel\n",
    "    tab_han = 'waveform'\n",
    "\n",
    "    for i,freq_val in enumerate(freqs):\n",
    "        t_start = time[i]\n",
    "        # dur = durations[i]-- here, constant, defined above\n",
    "        dur = 1.4\n",
    "        freq = freq_val\n",
    "        note_string = 'WAVETABLE(' + str(t_start) + ', ' \\\n",
    "                  + str(dur)  + ', ' + str(amp)+ '*ampenv' + ', ' \\\n",
    "                  + str(freq)  + ', ' + str(mix)  + ', ' \\\n",
    "                  +  tab_han + ')\\n' \n",
    "        f_out.write(note_string)\n",
    "        \n",
    "    f_out.close()\n",
    "    return score_name\n",
    "\n"
   ]
  },
  {
   "cell_type": "code",
   "execution_count": 15,
   "metadata": {},
   "outputs": [
    {
     "name": "stdout",
     "output_type": "stream",
     "text": [
      "[261.6255653  293.66476792 329.62755691 349.22823143 391.99543598\n",
      " 440.         493.88330126]\n",
      "ionian_c3.sco\n",
      "CMIX not found; rtoutput() will not be used in score.\n"
     ]
    },
    {
     "data": {
      "text/plain": [
       "'ionian_c3.sco'"
      ]
     },
     "execution_count": 15,
     "metadata": {},
     "output_type": "execute_result"
    }
   ],
   "source": [
    "# EXERCISE:  MAKE AN RTCMIX SCORE FROM THIS... \n",
    "base_name = 'ionian_c3'\n",
    "# pluck freqs out of the scale... or calculate freqs with k ? \n",
    "freqs = notenum2freq(indexes2,0,C3)\n",
    "print(freqs)\n",
    "time_sco = np.linspace(0,10,len(indexes2))\n",
    "\n",
    "makeSimpleScore(base_name,time_sco,freqs)"
   ]
  },
  {
   "cell_type": "code",
   "execution_count": 16,
   "metadata": {},
   "outputs": [
    {
     "name": "stdout",
     "output_type": "stream",
     "text": [
      "set_option(\"clobber = on\")\n",
      "rtsetparams(44100, 1)\n",
      "load(\"WAVETABLE\")\n",
      "waveform = maketable(\"wave\", 1000, 1.0)\n",
      "ampenv = maketable(\"window\", 1000, \"hamming\")\n",
      "WAVETABLE(0.0, 1.4, 10000*ampenv, 261.6255653005986, 1.0, waveform)\n",
      "WAVETABLE(1.6666666666666667, 1.4, 10000*ampenv, 293.6647679174076, 1.0, waveform)\n",
      "WAVETABLE(3.3333333333333335, 1.4, 10000*ampenv, 329.6275569128699, 1.0, waveform)\n",
      "WAVETABLE(5.0, 1.4, 10000*ampenv, 349.2282314330039, 1.0, waveform)\n",
      "WAVETABLE(6.666666666666667, 1.4, 10000*ampenv, 391.99543598174927, 1.0, waveform)\n",
      "WAVETABLE(8.333333333333334, 1.4, 10000*ampenv, 439.99999999999994, 1.0, waveform)\n",
      "WAVETABLE(10.0, 1.4, 10000*ampenv, 493.88330125612407, 1.0, waveform)\n",
      "\n"
     ]
    }
   ],
   "source": [
    "# READ THE SCORE ! \n",
    "\n",
    "scoread = open(base_name+'.sco')\n",
    "data = scoread.read()\n",
    "print(data)\n"
   ]
  },
  {
   "cell_type": "code",
   "execution_count": null,
   "metadata": {},
   "outputs": [],
   "source": []
  },
  {
   "cell_type": "code",
   "execution_count": 17,
   "metadata": {},
   "outputs": [
    {
     "name": "stdout",
     "output_type": "stream",
     "text": [
      "/Users/onur/Desktop/cekmece_temp/CMC_datamovies_y21_macOS-Win_combined/pyGoRTcmix/pyGoRTcmix -inputscore /Users/onur/Desktop/cekmece_temp/CMC_datamovies_y21_macOS-Win_combined/notebooks/ionian_c3.sco -output /Users/onur/Desktop/cekmece_temp/CMC_datamovies_y21_macOS-Win_combined/notebooks/ionian_c3.wav -dur 10.5\n",
      "\n",
      "hopefully i just wrote your sound file (ionian_c3.wav); is it here?\n",
      "ionian_c3.wav\n"
     ]
    }
   ],
   "source": [
    "# play RTcmix score and create a wave file\n",
    "# use CMIX if installed; if not, use pyGoRTcmix\n",
    "abitextra = 0.5\n",
    "dur_sound = time_sco[-1] + abitextra \n",
    "\n",
    "if cmixInstalled:\n",
    "    cmix_cmd = 'CMIX < ' + base_name + '.sco'\n",
    "    print(cmix_cmd)\n",
    "else:\n",
    "    dur = str(dur_sound)\n",
    "    cmix_cmd = os.path.abspath('../pyGoRTcmix/pyGoRTcmix') + ' -inputscore ' + os.path.abspath(base_name + '.sco') + ' -output ' + os.path.abspath(base_name + '.wav') + ' -dur ' + dur\n",
    "    print(cmix_cmd)\n",
    "\n",
    "runCMIX = sp.Popen(cmix_cmd, shell=True) # if can only be called from a shell, use shell=True\n",
    "\n",
    "runCMIX.wait()\n",
    "print('\\nhopefully i just wrote your sound file (' + base_name + '.wav); is it here?')\n",
    "\n",
    "if sys.platform == 'win32':\n",
    "    ! dir *.wav\n",
    "else:\n",
    "    ! ls *.wav"
   ]
  },
  {
   "cell_type": "code",
   "execution_count": 66,
   "metadata": {},
   "outputs": [],
   "source": [
    "# to automatically move the sound and score files to a different directory: \n",
    "# move_cmd = 'mv ' + base_name + '.* ../3_output_nogit/'\n",
    "# sp.Popen(move_cmd, shell=True)"
   ]
  },
  {
   "cell_type": "code",
   "execution_count": null,
   "metadata": {},
   "outputs": [],
   "source": []
  },
  {
   "cell_type": "markdown",
   "metadata": {},
   "source": [
    "## possible EXERCISES:  \n",
    "(1) Make the note sequence random  <br> \n",
    "(2) Make the note sequence microtonal  <br> \n",
    "(3) Make a rhythm by moving start times  <br> "
   ]
  },
  {
   "cell_type": "code",
   "execution_count": 58,
   "metadata": {},
   "outputs": [],
   "source": [
    "# EXERCISE:  CHANGE THE ROOT NOTE OF THE SCALE ! \n"
   ]
  },
  {
   "cell_type": "code",
   "execution_count": null,
   "metadata": {},
   "outputs": [],
   "source": [
    "# EXERCISE: STRING TOGETHER A SERIES OF SCALES, LOOPING OVER ONE THING TO CHANGE, \n",
    "# such as root note or mode... and make a longer RTcmix score... "
   ]
  },
  {
   "cell_type": "markdown",
   "metadata": {},
   "source": [
    "### (7) Circles of 5ths and 4ths... \n",
    "### (8) More considerations for composing from data.. chords... key changes, microtonal scales... "
   ]
  }
 ],
 "metadata": {
  "anaconda-cloud": {},
  "kernelspec": {
   "display_name": "Python 3",
   "language": "python",
   "name": "python3"
  },
  "language_info": {
   "codemirror_mode": {
    "name": "ipython",
    "version": 3
   },
   "file_extension": ".py",
   "mimetype": "text/x-python",
   "name": "python",
   "nbconvert_exporter": "python",
   "pygments_lexer": "ipython3",
   "version": "3.8.6"
  }
 },
 "nbformat": 4,
 "nbformat_minor": 4
}

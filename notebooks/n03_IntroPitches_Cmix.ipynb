{
 "cells": [
  {
   "attachments": {},
   "cell_type": "markdown",
   "metadata": {},
   "source": [
    "##  Pitches, scales, elements, frequencies, etc. IN RTcmix ! \n",
    "### (1) Pitches, Scales and Modes, now using the modules in \"pitches.py\"\n",
    "### (2) Generating RTcmix scores from lists of pitches"
   ]
  },
  {
   "cell_type": "code",
   "execution_count": 35,
   "metadata": {},
   "outputs": [],
   "source": [
    "import numpy as np\n",
    "import matplotlib.pyplot as plt\n",
    "# %matplotlib inline\n",
    "\n",
    "from subprocess import Popen\n",
    "import subprocess as sp\n",
    "import os\n",
    "import importlib\n",
    "from distutils.spawn import find_executable\n",
    "import sys\n",
    "sys.path.append(\"../modules/\")\n",
    "# Contains most of the functions used in the previous notebook: \n",
    "import pitches as ptchs\n",
    "importlib.reload(ptchs)\n",
    "\n",
    "import IPython.display as ipd\n",
    "\n",
    "# ----------------------------------------------------\n",
    "# if this doesn't work, try commenting this block and uncommenting the following block\n",
    "if find_executable(\"CMIX\") is not None:\n",
    "    cmixInstalled = True\n",
    "else:\n",
    "    cmixInstalled = False\n",
    "# ----------------------------------------------------\n",
    "# # _ac stands for autocheck\n",
    "# cmixStatus, cmixResult = sp.getstatusoutput(\"CMIX\")\n",
    "# if cmixStatus == 0:\n",
    "#     cmixInstalled = True\n",
    "#     print(\"CMIX found.\")\n",
    "# else:\n",
    "#     cmixInstalled = False\n",
    "#     print(\"CMIX not found, using pyGoRTcmix instead.\")\n",
    "# ----------------------------------------------------\n",
    "#for testing:\n",
    "# cmixInstalled = False\n",
    "\n",
    "%config InlineBackend.figure_formats = [\"svg\"]\n"
   ]
  },
  {
   "attachments": {},
   "cell_type": "markdown",
   "metadata": {},
   "source": [
    "# ==============================================\n",
    "## All the stuff from last notebook \n",
    "### (except for just intonation)\n",
    "### built into the modules in pitches.py"
   ]
  },
  {
   "cell_type": "code",
   "execution_count": 15,
   "metadata": {},
   "outputs": [
    {
     "name": "stdout",
     "output_type": "stream",
     "text": [
      "Semi tone indexes:\n",
      "[ 0  2  4  5  7  9 11 12]\n",
      "Frequencies (Hz) given the root frequency and the semi tone indexes defined above:\n",
      "[220.   246.94 277.18 293.66 329.63 369.99 415.3  440.  ]\n",
      "\n",
      "The list of all 12 pitch classes:\n",
      "['C', 'C#', 'D', 'D#', 'E', 'F', 'F#', 'G', 'G#', 'A', 'A#', 'B']\n",
      "Index of A in the pitch class list: 9.\n",
      "\n",
      "This is a dictionary with the reference frequencies of the pitch classes:\n",
      "{'C2': 65.41, 'C#2': 69.3, 'D2': 73.42, 'D#2': 77.78, 'E2': 82.41, 'F2': 87.31, 'F#2': 92.5, 'G2': 98.0, 'G#2': 103.83, 'A2': 110.0, 'A#2': 116.54, 'B2': 123.47, 'C3': 130.81, 'C#3': 138.59, 'D3': 146.83, 'D#3': 155.56, 'E3': 164.81, 'F3': 174.61, 'F#3': 185.0, 'G3': 196.0, 'G#3': 207.65, 'A3': 220.0, 'A#3': 233.08, 'B3': 246.94, 'C4': 261.63, 'C#4': 277.18, 'D4': 293.66, 'D#4': 311.13, 'E4': 329.63, 'F4': 349.23, 'F#4': 369.99, 'G4': 392.0, 'G#4': 415.3, 'A4': 440.0, 'A#4': 466.16, 'B4': 493.88, 'C5': 523.25, 'C#5': 554.37, 'D5': 587.33, 'D#5': 622.25, 'E5': 659.26, 'F5': 698.46, 'F#5': 739.99, 'G5': 783.99, 'G#5': 830.61, 'A5': 880.0, 'A#5': 932.33, 'B5': 987.77, 'C6': 1046.5, 'C#6': 1108.73, 'D6': 1174.66, 'D#6': 1244.51, 'E6': 1318.51, 'F6': 1396.91, 'F#6': 1479.98, 'G6': 1567.98, 'G#6': 1661.22, 'A6': 1760.0, 'A#6': 1864.66, 'B6': 1975.53}\n",
      "\n",
      "modes_dct:  {'modes7': {'ionian': [2, 2, 1, 2, 2, 2, 1], 'dorian': [2, 1, 2, 2, 2, 1, 2], 'phrygian': [1, 2, 2, 2, 1, 2, 2], 'lydian': [2, 2, 2, 1, 2, 2, 1], 'mixolydian': [2, 2, 1, 2, 2, 1, 2], 'aeolian': [2, 1, 2, 2, 1, 2, 2], 'lochrian': [1, 2, 2, 1, 2, 2, 2]}, 'modes8': {'21': [2, 1, 2, 1, 2, 1, 2, 1], '12': [1, 2, 1, 2, 1, 2, 1, 2]}}\n",
      "intervals:  [2, 2, 1, 2, 2, 2, 1]\n",
      "elements:  [ 0  2  4  5  7  9 11 12]\n",
      "key_all_inds:  [9, 10, 11, 0, 1, 2, 3, 4, 5, 6, 7, 8]\n",
      "key_all_names:  ['A', 'A#', 'B', 'C', 'C#', 'D', 'D#', 'E', 'F', 'F#', 'G', 'G#']\n",
      "key_inds:  [9, 11, 1, 2, 4, 6, 8]\n",
      "key_names:  ['A', 'B', 'C#', 'D', 'E', 'F#', 'G#']\n",
      "[220.   246.94 277.18 293.66 329.63 369.99 415.3  440.  ]\n"
     ]
    }
   ],
   "source": [
    "# From the previous notebook:\n",
    "# make a scale (major) from intervals\n",
    "semi_tone_intervals = np.array([2, 2, 1, 2, 2, 2, 1])\n",
    "k = np.hstack((0, np.cumsum(semi_tone_intervals)))\n",
    "print(f\"Semi tone indexes:\\n{k}\")\n",
    "v = 0\n",
    "root = 220  # A3\n",
    "f = ptchs.note2freq(k, v, root)\n",
    "print(f\"Frequencies (Hz) given the root frequency and the semi tone indexes defined above:\\n{f}\\n\")\n",
    "\n",
    "# ==============================\n",
    "# Using the functions in \"pitches\" (ptchs) module:\n",
    "pitch_classes = ptchs.make_pitch_classes()\n",
    "print(f\"The list of all 12 pitch classes:\\n{pitch_classes}\")\n",
    "key_name = \"A\"\n",
    "# python lists come with a built-in method to find the index of a given element\n",
    "i_root = pitch_classes.index(key_name)\n",
    "print(f\"Index of {key_name} in the pitch class list: {i_root:d}.\\n\")\n",
    "\n",
    "NameFreq_dict = ptchs.pitch_dict()\n",
    "print(f\"This is a dictionary with the reference frequencies of the pitch classes:\\n{NameFreq_dict}\\n\")\n",
    "\n",
    "root_name = \"A3\"  # taken from pitch_classes\n",
    "root = NameFreq_dict[root_name]\n",
    "\n",
    "# call the function to create the dictionary of intervals for a range of modes\n",
    "modes_dct = ptchs.modes()\n",
    "print(\"modes_dct: \", modes_dct)\n",
    "\n",
    "# extract arrays from the dictionary:\n",
    "intervals = modes_dct[\"modes7\"][\"ionian\"]\n",
    "print(\"intervals: \", intervals)\n",
    "\n",
    "elements = ptchs.intervals2elements(intervals)\n",
    "print(\"elements: \", elements)\n",
    "# print(type(elements))\n",
    "\n",
    "# -----------------------------\n",
    "# ROTATION for the pitch ring !\n",
    "key_all_names = []\n",
    "key_all_inds = []\n",
    "for i in range(0, 12):\n",
    "    newind = (i_root + i) % 12\n",
    "    key_all_inds.append(newind)\n",
    "    key_all_names.append(\n",
    "        pitch_classes[newind]\n",
    "    )  # the % is called \"modulo\" or remainder-- very useful!\n",
    "\n",
    "print(\"key_all_inds: \", key_all_inds)\n",
    "print(\"key_all_names: \", key_all_names)\n",
    "key_inds = [key_all_inds[i] for i in elements[:-1]]\n",
    "key_names = [key_all_names[i] for i in elements[:-1]]\n",
    "print(\"key_inds: \", key_inds)\n",
    "print(\"key_names: \", key_names)\n",
    "\n",
    "f2 = ptchs.note2freq(elements, v, root)\n",
    "print(f2)\n"
   ]
  },
  {
   "cell_type": "code",
   "execution_count": 16,
   "metadata": {},
   "outputs": [
    {
     "data": {
      "image/svg+xml": "<?xml version=\"1.0\" encoding=\"utf-8\" standalone=\"no\"?>\n<!DOCTYPE svg PUBLIC \"-//W3C//DTD SVG 1.1//EN\"\n  \"http://www.w3.org/Graphics/SVG/1.1/DTD/svg11.dtd\">\n<svg xmlns:xlink=\"http://www.w3.org/1999/xlink\" width=\"444.765625pt\" height=\"435.031832pt\" viewBox=\"0 0 444.765625 435.031832\" xmlns=\"http://www.w3.org/2000/svg\" version=\"1.1\">\n <metadata>\n  <rdf:RDF xmlns:dc=\"http://purl.org/dc/elements/1.1/\" xmlns:cc=\"http://creativecommons.org/ns#\" xmlns:rdf=\"http://www.w3.org/1999/02/22-rdf-syntax-ns#\">\n   <cc:Work>\n    <dc:type rdf:resource=\"http://purl.org/dc/dcmitype/StillImage\"/>\n    <dc:date>2023-02-16T19:18:26.150337</dc:date>\n    <dc:format>image/svg+xml</dc:format>\n    <dc:creator>\n     <cc:Agent>\n      <dc:title>Matplotlib v3.6.3, https://matplotlib.org/</dc:title>\n     </cc:Agent>\n    </dc:creator>\n   </cc:Work>\n  </rdf:RDF>\n </metadata>\n <defs>\n  <style type=\"text/css\">*{stroke-linejoin: round; stroke-linecap: butt}</style>\n </defs>\n <g id=\"figure_1\">\n  <g id=\"patch_1\">\n   <path d=\"M 0 435.031832 \nL 444.765625 435.031832 \nL 444.765625 0 \nL 0 0 \nz\n\" style=\"fill: #ffffff\"/>\n  </g>\n  <g id=\"axes_1\">\n   <g id=\"patch_2\">\n    <path d=\"M 46.965625 397.475582 \nL 437.565625 397.475582 \nL 437.565625 9.395582 \nL 46.965625 9.395582 \nz\n\" style=\"fill: #ffffff\"/>\n   </g>\n   <g id=\"matplotlib.axis_1\">\n    <g id=\"xtick_1\">\n     <g id=\"line2d_1\">\n      <path d=\"M 64.72017 397.475582 \nL 64.72017 9.395582 \n\" clip-path=\"url(#p07e9a6829e)\" style=\"fill: none; stroke: #b0b0b0; stroke-width: 0.8; stroke-linecap: square\"/>\n     </g>\n     <g id=\"line2d_2\">\n      <defs>\n       <path id=\"meb8c97319d\" d=\"M 0 0 \nL 0 3.5 \n\" style=\"stroke: #000000; stroke-width: 0.8\"/>\n      </defs>\n      <g>\n       <use xlink:href=\"#meb8c97319d\" x=\"64.72017\" y=\"397.475582\" style=\"stroke: #000000; stroke-width: 0.8\"/>\n      </g>\n     </g>\n     <g id=\"text_1\">\n      <!-- 0 -->\n      <g transform=\"translate(61.53892 412.07402) scale(0.1 -0.1)\">\n       <defs>\n        <path id=\"DejaVuSans-30\" d=\"M 2034 4250 \nQ 1547 4250 1301 3770 \nQ 1056 3291 1056 2328 \nQ 1056 1369 1301 889 \nQ 1547 409 2034 409 \nQ 2525 409 2770 889 \nQ 3016 1369 3016 2328 \nQ 3016 3291 2770 3770 \nQ 2525 4250 2034 4250 \nz\nM 2034 4750 \nQ 2819 4750 3233 4129 \nQ 3647 3509 3647 2328 \nQ 3647 1150 3233 529 \nQ 2819 -91 2034 -91 \nQ 1250 -91 836 529 \nQ 422 1150 422 2328 \nQ 422 3509 836 4129 \nQ 1250 4750 2034 4750 \nz\n\" transform=\"scale(0.015625)\"/>\n       </defs>\n       <use xlink:href=\"#DejaVuSans-30\"/>\n      </g>\n     </g>\n    </g>\n    <g id=\"xtick_2\">\n     <g id=\"line2d_3\">\n      <path d=\"M 123.901989 397.475582 \nL 123.901989 9.395582 \n\" clip-path=\"url(#p07e9a6829e)\" style=\"fill: none; stroke: #b0b0b0; stroke-width: 0.8; stroke-linecap: square\"/>\n     </g>\n     <g id=\"line2d_4\">\n      <g>\n       <use xlink:href=\"#meb8c97319d\" x=\"123.901989\" y=\"397.475582\" style=\"stroke: #000000; stroke-width: 0.8\"/>\n      </g>\n     </g>\n     <g id=\"text_2\">\n      <!-- 2 -->\n      <g transform=\"translate(120.720739 412.07402) scale(0.1 -0.1)\">\n       <defs>\n        <path id=\"DejaVuSans-32\" d=\"M 1228 531 \nL 3431 531 \nL 3431 0 \nL 469 0 \nL 469 531 \nQ 828 903 1448 1529 \nQ 2069 2156 2228 2338 \nQ 2531 2678 2651 2914 \nQ 2772 3150 2772 3378 \nQ 2772 3750 2511 3984 \nQ 2250 4219 1831 4219 \nQ 1534 4219 1204 4116 \nQ 875 4013 500 3803 \nL 500 4441 \nQ 881 4594 1212 4672 \nQ 1544 4750 1819 4750 \nQ 2544 4750 2975 4387 \nQ 3406 4025 3406 3419 \nQ 3406 3131 3298 2873 \nQ 3191 2616 2906 2266 \nQ 2828 2175 2409 1742 \nQ 1991 1309 1228 531 \nz\n\" transform=\"scale(0.015625)\"/>\n       </defs>\n       <use xlink:href=\"#DejaVuSans-32\"/>\n      </g>\n     </g>\n    </g>\n    <g id=\"xtick_3\">\n     <g id=\"line2d_5\">\n      <path d=\"M 183.083807 397.475582 \nL 183.083807 9.395582 \n\" clip-path=\"url(#p07e9a6829e)\" style=\"fill: none; stroke: #b0b0b0; stroke-width: 0.8; stroke-linecap: square\"/>\n     </g>\n     <g id=\"line2d_6\">\n      <g>\n       <use xlink:href=\"#meb8c97319d\" x=\"183.083807\" y=\"397.475582\" style=\"stroke: #000000; stroke-width: 0.8\"/>\n      </g>\n     </g>\n     <g id=\"text_3\">\n      <!-- 4 -->\n      <g transform=\"translate(179.902557 412.07402) scale(0.1 -0.1)\">\n       <defs>\n        <path id=\"DejaVuSans-34\" d=\"M 2419 4116 \nL 825 1625 \nL 2419 1625 \nL 2419 4116 \nz\nM 2253 4666 \nL 3047 4666 \nL 3047 1625 \nL 3713 1625 \nL 3713 1100 \nL 3047 1100 \nL 3047 0 \nL 2419 0 \nL 2419 1100 \nL 313 1100 \nL 313 1709 \nL 2253 4666 \nz\n\" transform=\"scale(0.015625)\"/>\n       </defs>\n       <use xlink:href=\"#DejaVuSans-34\"/>\n      </g>\n     </g>\n    </g>\n    <g id=\"xtick_4\">\n     <g id=\"line2d_7\">\n      <path d=\"M 242.265625 397.475582 \nL 242.265625 9.395582 \n\" clip-path=\"url(#p07e9a6829e)\" style=\"fill: none; stroke: #b0b0b0; stroke-width: 0.8; stroke-linecap: square\"/>\n     </g>\n     <g id=\"line2d_8\">\n      <g>\n       <use xlink:href=\"#meb8c97319d\" x=\"242.265625\" y=\"397.475582\" style=\"stroke: #000000; stroke-width: 0.8\"/>\n      </g>\n     </g>\n     <g id=\"text_4\">\n      <!-- 6 -->\n      <g transform=\"translate(239.084375 412.07402) scale(0.1 -0.1)\">\n       <defs>\n        <path id=\"DejaVuSans-36\" d=\"M 2113 2584 \nQ 1688 2584 1439 2293 \nQ 1191 2003 1191 1497 \nQ 1191 994 1439 701 \nQ 1688 409 2113 409 \nQ 2538 409 2786 701 \nQ 3034 994 3034 1497 \nQ 3034 2003 2786 2293 \nQ 2538 2584 2113 2584 \nz\nM 3366 4563 \nL 3366 3988 \nQ 3128 4100 2886 4159 \nQ 2644 4219 2406 4219 \nQ 1781 4219 1451 3797 \nQ 1122 3375 1075 2522 \nQ 1259 2794 1537 2939 \nQ 1816 3084 2150 3084 \nQ 2853 3084 3261 2657 \nQ 3669 2231 3669 1497 \nQ 3669 778 3244 343 \nQ 2819 -91 2113 -91 \nQ 1303 -91 875 529 \nQ 447 1150 447 2328 \nQ 447 3434 972 4092 \nQ 1497 4750 2381 4750 \nQ 2619 4750 2861 4703 \nQ 3103 4656 3366 4563 \nz\n\" transform=\"scale(0.015625)\"/>\n       </defs>\n       <use xlink:href=\"#DejaVuSans-36\"/>\n      </g>\n     </g>\n    </g>\n    <g id=\"xtick_5\">\n     <g id=\"line2d_9\">\n      <path d=\"M 301.447443 397.475582 \nL 301.447443 9.395582 \n\" clip-path=\"url(#p07e9a6829e)\" style=\"fill: none; stroke: #b0b0b0; stroke-width: 0.8; stroke-linecap: square\"/>\n     </g>\n     <g id=\"line2d_10\">\n      <g>\n       <use xlink:href=\"#meb8c97319d\" x=\"301.447443\" y=\"397.475582\" style=\"stroke: #000000; stroke-width: 0.8\"/>\n      </g>\n     </g>\n     <g id=\"text_5\">\n      <!-- 8 -->\n      <g transform=\"translate(298.266193 412.07402) scale(0.1 -0.1)\">\n       <defs>\n        <path id=\"DejaVuSans-38\" d=\"M 2034 2216 \nQ 1584 2216 1326 1975 \nQ 1069 1734 1069 1313 \nQ 1069 891 1326 650 \nQ 1584 409 2034 409 \nQ 2484 409 2743 651 \nQ 3003 894 3003 1313 \nQ 3003 1734 2745 1975 \nQ 2488 2216 2034 2216 \nz\nM 1403 2484 \nQ 997 2584 770 2862 \nQ 544 3141 544 3541 \nQ 544 4100 942 4425 \nQ 1341 4750 2034 4750 \nQ 2731 4750 3128 4425 \nQ 3525 4100 3525 3541 \nQ 3525 3141 3298 2862 \nQ 3072 2584 2669 2484 \nQ 3125 2378 3379 2068 \nQ 3634 1759 3634 1313 \nQ 3634 634 3220 271 \nQ 2806 -91 2034 -91 \nQ 1263 -91 848 271 \nQ 434 634 434 1313 \nQ 434 1759 690 2068 \nQ 947 2378 1403 2484 \nz\nM 1172 3481 \nQ 1172 3119 1398 2916 \nQ 1625 2713 2034 2713 \nQ 2441 2713 2670 2916 \nQ 2900 3119 2900 3481 \nQ 2900 3844 2670 4047 \nQ 2441 4250 2034 4250 \nQ 1625 4250 1398 4047 \nQ 1172 3844 1172 3481 \nz\n\" transform=\"scale(0.015625)\"/>\n       </defs>\n       <use xlink:href=\"#DejaVuSans-38\"/>\n      </g>\n     </g>\n    </g>\n    <g id=\"xtick_6\">\n     <g id=\"line2d_11\">\n      <path d=\"M 360.629261 397.475582 \nL 360.629261 9.395582 \n\" clip-path=\"url(#p07e9a6829e)\" style=\"fill: none; stroke: #b0b0b0; stroke-width: 0.8; stroke-linecap: square\"/>\n     </g>\n     <g id=\"line2d_12\">\n      <g>\n       <use xlink:href=\"#meb8c97319d\" x=\"360.629261\" y=\"397.475582\" style=\"stroke: #000000; stroke-width: 0.8\"/>\n      </g>\n     </g>\n     <g id=\"text_6\">\n      <!-- 10 -->\n      <g transform=\"translate(354.266761 412.07402) scale(0.1 -0.1)\">\n       <defs>\n        <path id=\"DejaVuSans-31\" d=\"M 794 531 \nL 1825 531 \nL 1825 4091 \nL 703 3866 \nL 703 4441 \nL 1819 4666 \nL 2450 4666 \nL 2450 531 \nL 3481 531 \nL 3481 0 \nL 794 0 \nL 794 531 \nz\n\" transform=\"scale(0.015625)\"/>\n       </defs>\n       <use xlink:href=\"#DejaVuSans-31\"/>\n       <use xlink:href=\"#DejaVuSans-30\" x=\"63.623047\"/>\n      </g>\n     </g>\n    </g>\n    <g id=\"xtick_7\">\n     <g id=\"line2d_13\">\n      <path d=\"M 419.81108 397.475582 \nL 419.81108 9.395582 \n\" clip-path=\"url(#p07e9a6829e)\" style=\"fill: none; stroke: #b0b0b0; stroke-width: 0.8; stroke-linecap: square\"/>\n     </g>\n     <g id=\"line2d_14\">\n      <g>\n       <use xlink:href=\"#meb8c97319d\" x=\"419.81108\" y=\"397.475582\" style=\"stroke: #000000; stroke-width: 0.8\"/>\n      </g>\n     </g>\n     <g id=\"text_7\">\n      <!-- 12 -->\n      <g transform=\"translate(413.44858 412.07402) scale(0.1 -0.1)\">\n       <use xlink:href=\"#DejaVuSans-31\"/>\n       <use xlink:href=\"#DejaVuSans-32\" x=\"63.623047\"/>\n      </g>\n     </g>\n    </g>\n    <g id=\"text_8\">\n     <!-- Scale element -->\n     <g transform=\"translate(206.605469 425.752145) scale(0.1 -0.1)\">\n      <defs>\n       <path id=\"DejaVuSans-53\" d=\"M 3425 4513 \nL 3425 3897 \nQ 3066 4069 2747 4153 \nQ 2428 4238 2131 4238 \nQ 1616 4238 1336 4038 \nQ 1056 3838 1056 3469 \nQ 1056 3159 1242 3001 \nQ 1428 2844 1947 2747 \nL 2328 2669 \nQ 3034 2534 3370 2195 \nQ 3706 1856 3706 1288 \nQ 3706 609 3251 259 \nQ 2797 -91 1919 -91 \nQ 1588 -91 1214 -16 \nQ 841 59 441 206 \nL 441 856 \nQ 825 641 1194 531 \nQ 1563 422 1919 422 \nQ 2459 422 2753 634 \nQ 3047 847 3047 1241 \nQ 3047 1584 2836 1778 \nQ 2625 1972 2144 2069 \nL 1759 2144 \nQ 1053 2284 737 2584 \nQ 422 2884 422 3419 \nQ 422 4038 858 4394 \nQ 1294 4750 2059 4750 \nQ 2388 4750 2728 4690 \nQ 3069 4631 3425 4513 \nz\n\" transform=\"scale(0.015625)\"/>\n       <path id=\"DejaVuSans-63\" d=\"M 3122 3366 \nL 3122 2828 \nQ 2878 2963 2633 3030 \nQ 2388 3097 2138 3097 \nQ 1578 3097 1268 2742 \nQ 959 2388 959 1747 \nQ 959 1106 1268 751 \nQ 1578 397 2138 397 \nQ 2388 397 2633 464 \nQ 2878 531 3122 666 \nL 3122 134 \nQ 2881 22 2623 -34 \nQ 2366 -91 2075 -91 \nQ 1284 -91 818 406 \nQ 353 903 353 1747 \nQ 353 2603 823 3093 \nQ 1294 3584 2113 3584 \nQ 2378 3584 2631 3529 \nQ 2884 3475 3122 3366 \nz\n\" transform=\"scale(0.015625)\"/>\n       <path id=\"DejaVuSans-61\" d=\"M 2194 1759 \nQ 1497 1759 1228 1600 \nQ 959 1441 959 1056 \nQ 959 750 1161 570 \nQ 1363 391 1709 391 \nQ 2188 391 2477 730 \nQ 2766 1069 2766 1631 \nL 2766 1759 \nL 2194 1759 \nz\nM 3341 1997 \nL 3341 0 \nL 2766 0 \nL 2766 531 \nQ 2569 213 2275 61 \nQ 1981 -91 1556 -91 \nQ 1019 -91 701 211 \nQ 384 513 384 1019 \nQ 384 1609 779 1909 \nQ 1175 2209 1959 2209 \nL 2766 2209 \nL 2766 2266 \nQ 2766 2663 2505 2880 \nQ 2244 3097 1772 3097 \nQ 1472 3097 1187 3025 \nQ 903 2953 641 2809 \nL 641 3341 \nQ 956 3463 1253 3523 \nQ 1550 3584 1831 3584 \nQ 2591 3584 2966 3190 \nQ 3341 2797 3341 1997 \nz\n\" transform=\"scale(0.015625)\"/>\n       <path id=\"DejaVuSans-6c\" d=\"M 603 4863 \nL 1178 4863 \nL 1178 0 \nL 603 0 \nL 603 4863 \nz\n\" transform=\"scale(0.015625)\"/>\n       <path id=\"DejaVuSans-65\" d=\"M 3597 1894 \nL 3597 1613 \nL 953 1613 \nQ 991 1019 1311 708 \nQ 1631 397 2203 397 \nQ 2534 397 2845 478 \nQ 3156 559 3463 722 \nL 3463 178 \nQ 3153 47 2828 -22 \nQ 2503 -91 2169 -91 \nQ 1331 -91 842 396 \nQ 353 884 353 1716 \nQ 353 2575 817 3079 \nQ 1281 3584 2069 3584 \nQ 2775 3584 3186 3129 \nQ 3597 2675 3597 1894 \nz\nM 3022 2063 \nQ 3016 2534 2758 2815 \nQ 2500 3097 2075 3097 \nQ 1594 3097 1305 2825 \nQ 1016 2553 972 2059 \nL 3022 2063 \nz\n\" transform=\"scale(0.015625)\"/>\n       <path id=\"DejaVuSans-20\" transform=\"scale(0.015625)\"/>\n       <path id=\"DejaVuSans-6d\" d=\"M 3328 2828 \nQ 3544 3216 3844 3400 \nQ 4144 3584 4550 3584 \nQ 5097 3584 5394 3201 \nQ 5691 2819 5691 2113 \nL 5691 0 \nL 5113 0 \nL 5113 2094 \nQ 5113 2597 4934 2840 \nQ 4756 3084 4391 3084 \nQ 3944 3084 3684 2787 \nQ 3425 2491 3425 1978 \nL 3425 0 \nL 2847 0 \nL 2847 2094 \nQ 2847 2600 2669 2842 \nQ 2491 3084 2119 3084 \nQ 1678 3084 1418 2786 \nQ 1159 2488 1159 1978 \nL 1159 0 \nL 581 0 \nL 581 3500 \nL 1159 3500 \nL 1159 2956 \nQ 1356 3278 1631 3431 \nQ 1906 3584 2284 3584 \nQ 2666 3584 2933 3390 \nQ 3200 3197 3328 2828 \nz\n\" transform=\"scale(0.015625)\"/>\n       <path id=\"DejaVuSans-6e\" d=\"M 3513 2113 \nL 3513 0 \nL 2938 0 \nL 2938 2094 \nQ 2938 2591 2744 2837 \nQ 2550 3084 2163 3084 \nQ 1697 3084 1428 2787 \nQ 1159 2491 1159 1978 \nL 1159 0 \nL 581 0 \nL 581 3500 \nL 1159 3500 \nL 1159 2956 \nQ 1366 3272 1645 3428 \nQ 1925 3584 2291 3584 \nQ 2894 3584 3203 3211 \nQ 3513 2838 3513 2113 \nz\n\" transform=\"scale(0.015625)\"/>\n       <path id=\"DejaVuSans-74\" d=\"M 1172 4494 \nL 1172 3500 \nL 2356 3500 \nL 2356 3053 \nL 1172 3053 \nL 1172 1153 \nQ 1172 725 1289 603 \nQ 1406 481 1766 481 \nL 2356 481 \nL 2356 0 \nL 1766 0 \nQ 1100 0 847 248 \nQ 594 497 594 1153 \nL 594 3053 \nL 172 3053 \nL 172 3500 \nL 594 3500 \nL 594 4494 \nL 1172 4494 \nz\n\" transform=\"scale(0.015625)\"/>\n      </defs>\n      <use xlink:href=\"#DejaVuSans-53\"/>\n      <use xlink:href=\"#DejaVuSans-63\" x=\"63.476562\"/>\n      <use xlink:href=\"#DejaVuSans-61\" x=\"118.457031\"/>\n      <use xlink:href=\"#DejaVuSans-6c\" x=\"179.736328\"/>\n      <use xlink:href=\"#DejaVuSans-65\" x=\"207.519531\"/>\n      <use xlink:href=\"#DejaVuSans-20\" x=\"269.042969\"/>\n      <use xlink:href=\"#DejaVuSans-65\" x=\"300.830078\"/>\n      <use xlink:href=\"#DejaVuSans-6c\" x=\"362.353516\"/>\n      <use xlink:href=\"#DejaVuSans-65\" x=\"390.136719\"/>\n      <use xlink:href=\"#DejaVuSans-6d\" x=\"451.660156\"/>\n      <use xlink:href=\"#DejaVuSans-65\" x=\"549.072266\"/>\n      <use xlink:href=\"#DejaVuSans-6e\" x=\"610.595703\"/>\n      <use xlink:href=\"#DejaVuSans-74\" x=\"673.974609\"/>\n     </g>\n    </g>\n   </g>\n   <g id=\"matplotlib.axis_2\">\n    <g id=\"ytick_1\">\n     <g id=\"line2d_15\">\n      <path d=\"M 46.965625 331.726491 \nL 437.565625 331.726491 \n\" clip-path=\"url(#p07e9a6829e)\" style=\"fill: none; stroke: #b0b0b0; stroke-width: 0.8; stroke-linecap: square\"/>\n     </g>\n     <g id=\"line2d_16\">\n      <defs>\n       <path id=\"m4e200fbf41\" d=\"M 0 0 \nL -3.5 0 \n\" style=\"stroke: #000000; stroke-width: 0.8\"/>\n      </defs>\n      <g>\n       <use xlink:href=\"#m4e200fbf41\" x=\"46.965625\" y=\"331.726491\" style=\"stroke: #000000; stroke-width: 0.8\"/>\n      </g>\n     </g>\n     <g id=\"text_9\">\n      <!-- 250 -->\n      <g transform=\"translate(20.878125 335.52571) scale(0.1 -0.1)\">\n       <defs>\n        <path id=\"DejaVuSans-35\" d=\"M 691 4666 \nL 3169 4666 \nL 3169 4134 \nL 1269 4134 \nL 1269 2991 \nQ 1406 3038 1543 3061 \nQ 1681 3084 1819 3084 \nQ 2600 3084 3056 2656 \nQ 3513 2228 3513 1497 \nQ 3513 744 3044 326 \nQ 2575 -91 1722 -91 \nQ 1428 -91 1123 -41 \nQ 819 9 494 109 \nL 494 744 \nQ 775 591 1075 516 \nQ 1375 441 1709 441 \nQ 2250 441 2565 725 \nQ 2881 1009 2881 1497 \nQ 2881 1984 2565 2268 \nQ 2250 2553 1709 2553 \nQ 1456 2553 1204 2497 \nQ 953 2441 691 2322 \nL 691 4666 \nz\n\" transform=\"scale(0.015625)\"/>\n       </defs>\n       <use xlink:href=\"#DejaVuSans-32\"/>\n       <use xlink:href=\"#DejaVuSans-35\" x=\"63.623047\"/>\n       <use xlink:href=\"#DejaVuSans-30\" x=\"127.246094\"/>\n      </g>\n     </g>\n    </g>\n    <g id=\"ytick_2\">\n     <g id=\"line2d_17\">\n      <path d=\"M 46.965625 251.544673 \nL 437.565625 251.544673 \n\" clip-path=\"url(#p07e9a6829e)\" style=\"fill: none; stroke: #b0b0b0; stroke-width: 0.8; stroke-linecap: square\"/>\n     </g>\n     <g id=\"line2d_18\">\n      <g>\n       <use xlink:href=\"#m4e200fbf41\" x=\"46.965625\" y=\"251.544673\" style=\"stroke: #000000; stroke-width: 0.8\"/>\n      </g>\n     </g>\n     <g id=\"text_10\">\n      <!-- 300 -->\n      <g transform=\"translate(20.878125 255.343892) scale(0.1 -0.1)\">\n       <defs>\n        <path id=\"DejaVuSans-33\" d=\"M 2597 2516 \nQ 3050 2419 3304 2112 \nQ 3559 1806 3559 1356 \nQ 3559 666 3084 287 \nQ 2609 -91 1734 -91 \nQ 1441 -91 1130 -33 \nQ 819 25 488 141 \nL 488 750 \nQ 750 597 1062 519 \nQ 1375 441 1716 441 \nQ 2309 441 2620 675 \nQ 2931 909 2931 1356 \nQ 2931 1769 2642 2001 \nQ 2353 2234 1838 2234 \nL 1294 2234 \nL 1294 2753 \nL 1863 2753 \nQ 2328 2753 2575 2939 \nQ 2822 3125 2822 3475 \nQ 2822 3834 2567 4026 \nQ 2313 4219 1838 4219 \nQ 1578 4219 1281 4162 \nQ 984 4106 628 3988 \nL 628 4550 \nQ 988 4650 1302 4700 \nQ 1616 4750 1894 4750 \nQ 2613 4750 3031 4423 \nQ 3450 4097 3450 3541 \nQ 3450 3153 3228 2886 \nQ 3006 2619 2597 2516 \nz\n\" transform=\"scale(0.015625)\"/>\n       </defs>\n       <use xlink:href=\"#DejaVuSans-33\"/>\n       <use xlink:href=\"#DejaVuSans-30\" x=\"63.623047\"/>\n       <use xlink:href=\"#DejaVuSans-30\" x=\"127.246094\"/>\n      </g>\n     </g>\n    </g>\n    <g id=\"ytick_3\">\n     <g id=\"line2d_19\">\n      <path d=\"M 46.965625 171.362855 \nL 437.565625 171.362855 \n\" clip-path=\"url(#p07e9a6829e)\" style=\"fill: none; stroke: #b0b0b0; stroke-width: 0.8; stroke-linecap: square\"/>\n     </g>\n     <g id=\"line2d_20\">\n      <g>\n       <use xlink:href=\"#m4e200fbf41\" x=\"46.965625\" y=\"171.362855\" style=\"stroke: #000000; stroke-width: 0.8\"/>\n      </g>\n     </g>\n     <g id=\"text_11\">\n      <!-- 350 -->\n      <g transform=\"translate(20.878125 175.162074) scale(0.1 -0.1)\">\n       <use xlink:href=\"#DejaVuSans-33\"/>\n       <use xlink:href=\"#DejaVuSans-35\" x=\"63.623047\"/>\n       <use xlink:href=\"#DejaVuSans-30\" x=\"127.246094\"/>\n      </g>\n     </g>\n    </g>\n    <g id=\"ytick_4\">\n     <g id=\"line2d_21\">\n      <path d=\"M 46.965625 91.181037 \nL 437.565625 91.181037 \n\" clip-path=\"url(#p07e9a6829e)\" style=\"fill: none; stroke: #b0b0b0; stroke-width: 0.8; stroke-linecap: square\"/>\n     </g>\n     <g id=\"line2d_22\">\n      <g>\n       <use xlink:href=\"#m4e200fbf41\" x=\"46.965625\" y=\"91.181037\" style=\"stroke: #000000; stroke-width: 0.8\"/>\n      </g>\n     </g>\n     <g id=\"text_12\">\n      <!-- 400 -->\n      <g transform=\"translate(20.878125 94.980256) scale(0.1 -0.1)\">\n       <use xlink:href=\"#DejaVuSans-34\"/>\n       <use xlink:href=\"#DejaVuSans-30\" x=\"63.623047\"/>\n       <use xlink:href=\"#DejaVuSans-30\" x=\"127.246094\"/>\n      </g>\n     </g>\n    </g>\n    <g id=\"ytick_5\">\n     <g id=\"line2d_23\">\n      <path d=\"M 46.965625 10.999219 \nL 437.565625 10.999219 \n\" clip-path=\"url(#p07e9a6829e)\" style=\"fill: none; stroke: #b0b0b0; stroke-width: 0.8; stroke-linecap: square\"/>\n     </g>\n     <g id=\"line2d_24\">\n      <g>\n       <use xlink:href=\"#m4e200fbf41\" x=\"46.965625\" y=\"10.999219\" style=\"stroke: #000000; stroke-width: 0.8\"/>\n      </g>\n     </g>\n     <g id=\"text_13\">\n      <!-- 450 -->\n      <g transform=\"translate(20.878125 14.798437) scale(0.1 -0.1)\">\n       <use xlink:href=\"#DejaVuSans-34\"/>\n       <use xlink:href=\"#DejaVuSans-35\" x=\"63.623047\"/>\n       <use xlink:href=\"#DejaVuSans-30\" x=\"127.246094\"/>\n      </g>\n     </g>\n    </g>\n    <g id=\"text_14\">\n     <!-- Frequency (Hz) -->\n     <g transform=\"translate(14.798437 241.14027) rotate(-90) scale(0.1 -0.1)\">\n      <defs>\n       <path id=\"DejaVuSans-46\" d=\"M 628 4666 \nL 3309 4666 \nL 3309 4134 \nL 1259 4134 \nL 1259 2759 \nL 3109 2759 \nL 3109 2228 \nL 1259 2228 \nL 1259 0 \nL 628 0 \nL 628 4666 \nz\n\" transform=\"scale(0.015625)\"/>\n       <path id=\"DejaVuSans-72\" d=\"M 2631 2963 \nQ 2534 3019 2420 3045 \nQ 2306 3072 2169 3072 \nQ 1681 3072 1420 2755 \nQ 1159 2438 1159 1844 \nL 1159 0 \nL 581 0 \nL 581 3500 \nL 1159 3500 \nL 1159 2956 \nQ 1341 3275 1631 3429 \nQ 1922 3584 2338 3584 \nQ 2397 3584 2469 3576 \nQ 2541 3569 2628 3553 \nL 2631 2963 \nz\n\" transform=\"scale(0.015625)\"/>\n       <path id=\"DejaVuSans-71\" d=\"M 947 1747 \nQ 947 1113 1208 752 \nQ 1469 391 1925 391 \nQ 2381 391 2643 752 \nQ 2906 1113 2906 1747 \nQ 2906 2381 2643 2742 \nQ 2381 3103 1925 3103 \nQ 1469 3103 1208 2742 \nQ 947 2381 947 1747 \nz\nM 2906 525 \nQ 2725 213 2448 61 \nQ 2172 -91 1784 -91 \nQ 1150 -91 751 415 \nQ 353 922 353 1747 \nQ 353 2572 751 3078 \nQ 1150 3584 1784 3584 \nQ 2172 3584 2448 3432 \nQ 2725 3281 2906 2969 \nL 2906 3500 \nL 3481 3500 \nL 3481 -1331 \nL 2906 -1331 \nL 2906 525 \nz\n\" transform=\"scale(0.015625)\"/>\n       <path id=\"DejaVuSans-75\" d=\"M 544 1381 \nL 544 3500 \nL 1119 3500 \nL 1119 1403 \nQ 1119 906 1312 657 \nQ 1506 409 1894 409 \nQ 2359 409 2629 706 \nQ 2900 1003 2900 1516 \nL 2900 3500 \nL 3475 3500 \nL 3475 0 \nL 2900 0 \nL 2900 538 \nQ 2691 219 2414 64 \nQ 2138 -91 1772 -91 \nQ 1169 -91 856 284 \nQ 544 659 544 1381 \nz\nM 1991 3584 \nL 1991 3584 \nz\n\" transform=\"scale(0.015625)\"/>\n       <path id=\"DejaVuSans-79\" d=\"M 2059 -325 \nQ 1816 -950 1584 -1140 \nQ 1353 -1331 966 -1331 \nL 506 -1331 \nL 506 -850 \nL 844 -850 \nQ 1081 -850 1212 -737 \nQ 1344 -625 1503 -206 \nL 1606 56 \nL 191 3500 \nL 800 3500 \nL 1894 763 \nL 2988 3500 \nL 3597 3500 \nL 2059 -325 \nz\n\" transform=\"scale(0.015625)\"/>\n       <path id=\"DejaVuSans-28\" d=\"M 1984 4856 \nQ 1566 4138 1362 3434 \nQ 1159 2731 1159 2009 \nQ 1159 1288 1364 580 \nQ 1569 -128 1984 -844 \nL 1484 -844 \nQ 1016 -109 783 600 \nQ 550 1309 550 2009 \nQ 550 2706 781 3412 \nQ 1013 4119 1484 4856 \nL 1984 4856 \nz\n\" transform=\"scale(0.015625)\"/>\n       <path id=\"DejaVuSans-48\" d=\"M 628 4666 \nL 1259 4666 \nL 1259 2753 \nL 3553 2753 \nL 3553 4666 \nL 4184 4666 \nL 4184 0 \nL 3553 0 \nL 3553 2222 \nL 1259 2222 \nL 1259 0 \nL 628 0 \nL 628 4666 \nz\n\" transform=\"scale(0.015625)\"/>\n       <path id=\"DejaVuSans-7a\" d=\"M 353 3500 \nL 3084 3500 \nL 3084 2975 \nL 922 459 \nL 3084 459 \nL 3084 0 \nL 275 0 \nL 275 525 \nL 2438 3041 \nL 353 3041 \nL 353 3500 \nz\n\" transform=\"scale(0.015625)\"/>\n       <path id=\"DejaVuSans-29\" d=\"M 513 4856 \nL 1013 4856 \nQ 1481 4119 1714 3412 \nQ 1947 2706 1947 2009 \nQ 1947 1309 1714 600 \nQ 1481 -109 1013 -844 \nL 513 -844 \nQ 928 -128 1133 580 \nQ 1338 1288 1338 2009 \nQ 1338 2731 1133 3434 \nQ 928 4138 513 4856 \nz\n\" transform=\"scale(0.015625)\"/>\n      </defs>\n      <use xlink:href=\"#DejaVuSans-46\"/>\n      <use xlink:href=\"#DejaVuSans-72\" x=\"50.269531\"/>\n      <use xlink:href=\"#DejaVuSans-65\" x=\"89.132812\"/>\n      <use xlink:href=\"#DejaVuSans-71\" x=\"150.65625\"/>\n      <use xlink:href=\"#DejaVuSans-75\" x=\"214.132812\"/>\n      <use xlink:href=\"#DejaVuSans-65\" x=\"277.511719\"/>\n      <use xlink:href=\"#DejaVuSans-6e\" x=\"339.035156\"/>\n      <use xlink:href=\"#DejaVuSans-63\" x=\"402.414062\"/>\n      <use xlink:href=\"#DejaVuSans-79\" x=\"457.394531\"/>\n      <use xlink:href=\"#DejaVuSans-20\" x=\"516.574219\"/>\n      <use xlink:href=\"#DejaVuSans-28\" x=\"548.361328\"/>\n      <use xlink:href=\"#DejaVuSans-48\" x=\"587.375\"/>\n      <use xlink:href=\"#DejaVuSans-7a\" x=\"662.570312\"/>\n      <use xlink:href=\"#DejaVuSans-29\" x=\"715.060547\"/>\n     </g>\n    </g>\n   </g>\n   <g id=\"line2d_25\">\n    <defs>\n     <path id=\"m1fd2eb3915\" d=\"M 0 3 \nC 0.795609 3 1.55874 2.683901 2.12132 2.12132 \nC 2.683901 1.55874 3 0.795609 3 0 \nC 3 -0.795609 2.683901 -1.55874 2.12132 -2.12132 \nC 1.55874 -2.683901 0.795609 -3 0 -3 \nC -0.795609 -3 -1.55874 -2.683901 -2.12132 -2.12132 \nC -2.683901 -1.55874 -3 -0.795609 -3 0 \nC -3 0.795609 -2.683901 1.55874 -2.12132 2.12132 \nC -1.55874 2.683901 -0.795609 3 0 3 \nz\n\" style=\"stroke: #ff0000\"/>\n    </defs>\n    <g clip-path=\"url(#p07e9a6829e)\">\n     <use xlink:href=\"#m1fd2eb3915\" x=\"64.72017\" y=\"379.835582\" style=\"fill: #ff0000; stroke: #ff0000\"/>\n     <use xlink:href=\"#m1fd2eb3915\" x=\"123.901989\" y=\"336.633619\" style=\"fill: #ff0000; stroke: #ff0000\"/>\n     <use xlink:href=\"#m1fd2eb3915\" x=\"183.083807\" y=\"288.139655\" style=\"fill: #ff0000; stroke: #ff0000\"/>\n     <use xlink:href=\"#m1fd2eb3915\" x=\"212.674716\" y=\"261.711728\" style=\"fill: #ff0000; stroke: #ff0000\"/>\n     <use xlink:href=\"#m1fd2eb3915\" x=\"271.856534\" y=\"204.028928\" style=\"fill: #ff0000; stroke: #ff0000\"/>\n     <use xlink:href=\"#m1fd2eb3915\" x=\"331.038352\" y=\"139.306164\" style=\"fill: #ff0000; stroke: #ff0000\"/>\n     <use xlink:href=\"#m1fd2eb3915\" x=\"390.22017\" y=\"66.645401\" style=\"fill: #ff0000; stroke: #ff0000\"/>\n     <use xlink:href=\"#m1fd2eb3915\" x=\"419.81108\" y=\"27.035582\" style=\"fill: #ff0000; stroke: #ff0000\"/>\n    </g>\n   </g>\n   <g id=\"patch_3\">\n    <path d=\"M 46.965625 397.475582 \nL 46.965625 9.395582 \n\" style=\"fill: none; stroke: #000000; stroke-width: 0.8; stroke-linejoin: miter; stroke-linecap: square\"/>\n   </g>\n   <g id=\"patch_4\">\n    <path d=\"M 437.565625 397.475582 \nL 437.565625 9.395582 \n\" style=\"fill: none; stroke: #000000; stroke-width: 0.8; stroke-linejoin: miter; stroke-linecap: square\"/>\n   </g>\n   <g id=\"patch_5\">\n    <path d=\"M 46.965625 397.475582 \nL 437.565625 397.475582 \n\" style=\"fill: none; stroke: #000000; stroke-width: 0.8; stroke-linejoin: miter; stroke-linecap: square\"/>\n   </g>\n   <g id=\"patch_6\">\n    <path d=\"M 46.965625 9.395582 \nL 437.565625 9.395582 \n\" style=\"fill: none; stroke: #000000; stroke-width: 0.8; stroke-linejoin: miter; stroke-linecap: square\"/>\n   </g>\n   <g id=\"text_15\">\n    <!-- A -->\n    <g transform=\"translate(64.72017 371.817401) scale(0.1 -0.1)\">\n     <defs>\n      <path id=\"DejaVuSans-41\" d=\"M 2188 4044 \nL 1331 1722 \nL 3047 1722 \nL 2188 4044 \nz\nM 1831 4666 \nL 2547 4666 \nL 4325 0 \nL 3669 0 \nL 3244 1197 \nL 1141 1197 \nL 716 0 \nL 50 0 \nL 1831 4666 \nz\n\" transform=\"scale(0.015625)\"/>\n     </defs>\n     <use xlink:href=\"#DejaVuSans-41\"/>\n    </g>\n   </g>\n   <g id=\"text_16\">\n    <!-- B -->\n    <g transform=\"translate(123.901989 328.615437) scale(0.1 -0.1)\">\n     <defs>\n      <path id=\"DejaVuSans-42\" d=\"M 1259 2228 \nL 1259 519 \nL 2272 519 \nQ 2781 519 3026 730 \nQ 3272 941 3272 1375 \nQ 3272 1813 3026 2020 \nQ 2781 2228 2272 2228 \nL 1259 2228 \nz\nM 1259 4147 \nL 1259 2741 \nL 2194 2741 \nQ 2656 2741 2882 2914 \nQ 3109 3088 3109 3444 \nQ 3109 3797 2882 3972 \nQ 2656 4147 2194 4147 \nL 1259 4147 \nz\nM 628 4666 \nL 2241 4666 \nQ 2963 4666 3353 4366 \nQ 3744 4066 3744 3513 \nQ 3744 3084 3544 2831 \nQ 3344 2578 2956 2516 \nQ 3422 2416 3680 2098 \nQ 3938 1781 3938 1306 \nQ 3938 681 3513 340 \nQ 3088 0 2303 0 \nL 628 0 \nL 628 4666 \nz\n\" transform=\"scale(0.015625)\"/>\n     </defs>\n     <use xlink:href=\"#DejaVuSans-42\"/>\n    </g>\n   </g>\n   <g id=\"text_17\">\n    <!-- C# -->\n    <g transform=\"translate(183.083807 280.121473) scale(0.1 -0.1)\">\n     <defs>\n      <path id=\"DejaVuSans-43\" d=\"M 4122 4306 \nL 4122 3641 \nQ 3803 3938 3442 4084 \nQ 3081 4231 2675 4231 \nQ 1875 4231 1450 3742 \nQ 1025 3253 1025 2328 \nQ 1025 1406 1450 917 \nQ 1875 428 2675 428 \nQ 3081 428 3442 575 \nQ 3803 722 4122 1019 \nL 4122 359 \nQ 3791 134 3420 21 \nQ 3050 -91 2638 -91 \nQ 1578 -91 968 557 \nQ 359 1206 359 2328 \nQ 359 3453 968 4101 \nQ 1578 4750 2638 4750 \nQ 3056 4750 3426 4639 \nQ 3797 4528 4122 4306 \nz\n\" transform=\"scale(0.015625)\"/>\n      <path id=\"DejaVuSans-23\" d=\"M 3272 2816 \nL 2363 2816 \nL 2100 1772 \nL 3016 1772 \nL 3272 2816 \nz\nM 2803 4594 \nL 2478 3297 \nL 3391 3297 \nL 3719 4594 \nL 4219 4594 \nL 3897 3297 \nL 4872 3297 \nL 4872 2816 \nL 3775 2816 \nL 3519 1772 \nL 4513 1772 \nL 4513 1294 \nL 3397 1294 \nL 3072 0 \nL 2572 0 \nL 2894 1294 \nL 1978 1294 \nL 1656 0 \nL 1153 0 \nL 1478 1294 \nL 494 1294 \nL 494 1772 \nL 1594 1772 \nL 1856 2816 \nL 850 2816 \nL 850 3297 \nL 1978 3297 \nL 2297 4594 \nL 2803 4594 \nz\n\" transform=\"scale(0.015625)\"/>\n     </defs>\n     <use xlink:href=\"#DejaVuSans-43\"/>\n     <use xlink:href=\"#DejaVuSans-23\" x=\"69.824219\"/>\n    </g>\n   </g>\n   <g id=\"text_18\">\n    <!-- D -->\n    <g transform=\"translate(212.674716 253.693546) scale(0.1 -0.1)\">\n     <defs>\n      <path id=\"DejaVuSans-44\" d=\"M 1259 4147 \nL 1259 519 \nL 2022 519 \nQ 2988 519 3436 956 \nQ 3884 1394 3884 2338 \nQ 3884 3275 3436 3711 \nQ 2988 4147 2022 4147 \nL 1259 4147 \nz\nM 628 4666 \nL 1925 4666 \nQ 3281 4666 3915 4102 \nQ 4550 3538 4550 2338 \nQ 4550 1131 3912 565 \nQ 3275 0 1925 0 \nL 628 0 \nL 628 4666 \nz\n\" transform=\"scale(0.015625)\"/>\n     </defs>\n     <use xlink:href=\"#DejaVuSans-44\"/>\n    </g>\n   </g>\n   <g id=\"text_19\">\n    <!-- E -->\n    <g transform=\"translate(271.856534 196.010746) scale(0.1 -0.1)\">\n     <defs>\n      <path id=\"DejaVuSans-45\" d=\"M 628 4666 \nL 3578 4666 \nL 3578 4134 \nL 1259 4134 \nL 1259 2753 \nL 3481 2753 \nL 3481 2222 \nL 1259 2222 \nL 1259 531 \nL 3634 531 \nL 3634 0 \nL 628 0 \nL 628 4666 \nz\n\" transform=\"scale(0.015625)\"/>\n     </defs>\n     <use xlink:href=\"#DejaVuSans-45\"/>\n    </g>\n   </g>\n   <g id=\"text_20\">\n    <!-- F# -->\n    <g transform=\"translate(331.038352 131.287982) scale(0.1 -0.1)\">\n     <use xlink:href=\"#DejaVuSans-46\"/>\n     <use xlink:href=\"#DejaVuSans-23\" x=\"57.519531\"/>\n    </g>\n   </g>\n   <g id=\"text_21\">\n    <!-- G# -->\n    <g transform=\"translate(390.22017 58.627219) scale(0.1 -0.1)\">\n     <defs>\n      <path id=\"DejaVuSans-47\" d=\"M 3809 666 \nL 3809 1919 \nL 2778 1919 \nL 2778 2438 \nL 4434 2438 \nL 4434 434 \nQ 4069 175 3628 42 \nQ 3188 -91 2688 -91 \nQ 1594 -91 976 548 \nQ 359 1188 359 2328 \nQ 359 3472 976 4111 \nQ 1594 4750 2688 4750 \nQ 3144 4750 3555 4637 \nQ 3966 4525 4313 4306 \nL 4313 3634 \nQ 3963 3931 3569 4081 \nQ 3175 4231 2741 4231 \nQ 1884 4231 1454 3753 \nQ 1025 3275 1025 2328 \nQ 1025 1384 1454 906 \nQ 1884 428 2741 428 \nQ 3075 428 3337 486 \nQ 3600 544 3809 666 \nz\n\" transform=\"scale(0.015625)\"/>\n     </defs>\n     <use xlink:href=\"#DejaVuSans-47\"/>\n     <use xlink:href=\"#DejaVuSans-23\" x=\"77.490234\"/>\n    </g>\n   </g>\n  </g>\n </g>\n <defs>\n  <clipPath id=\"p07e9a6829e\">\n   <rect x=\"46.965625\" y=\"9.395582\" width=\"390.6\" height=\"388.08\"/>\n  </clipPath>\n </defs>\n</svg>\n",
      "text/plain": [
       "<Figure size 700x700 with 1 Axes>"
      ]
     },
     "metadata": {},
     "output_type": "display_data"
    }
   ],
   "source": [
    "fig, ax = plt.subplots(num=\"frequency_vs_scale_element\", figsize=(7, 7))\n",
    "ax.plot(elements, f2, \"ro\")\n",
    "ax.set_xlabel(\"Scale element\")\n",
    "ax.set_ylabel(\"Frequency (Hz)\")\n",
    "for i, name in enumerate(key_names):\n",
    "    ax.text(elements[i], f2[i] + 5, name)\n",
    "ax.grid()\n",
    "plt.show()\n"
   ]
  },
  {
   "attachments": {},
   "cell_type": "markdown",
   "metadata": {},
   "source": [
    "### OR, the pitch wheel representation: "
   ]
  },
  {
   "cell_type": "code",
   "execution_count": 17,
   "metadata": {},
   "outputs": [
    {
     "data": {
      "image/svg+xml": "<?xml version=\"1.0\" encoding=\"utf-8\" standalone=\"no\"?>\n<!DOCTYPE svg PUBLIC \"-//W3C//DTD SVG 1.1//EN\"\n  \"http://www.w3.org/Graphics/SVG/1.1/DTD/svg11.dtd\">\n<svg xmlns:xlink=\"http://www.w3.org/1999/xlink\" width=\"284.012pt\" height=\"284.012pt\" viewBox=\"0 0 284.012 284.012\" xmlns=\"http://www.w3.org/2000/svg\" version=\"1.1\">\n <metadata>\n  <rdf:RDF xmlns:dc=\"http://purl.org/dc/elements/1.1/\" xmlns:cc=\"http://creativecommons.org/ns#\" xmlns:rdf=\"http://www.w3.org/1999/02/22-rdf-syntax-ns#\">\n   <cc:Work>\n    <dc:type rdf:resource=\"http://purl.org/dc/dcmitype/StillImage\"/>\n    <dc:date>2023-02-16T19:18:27.102421</dc:date>\n    <dc:format>image/svg+xml</dc:format>\n    <dc:creator>\n     <cc:Agent>\n      <dc:title>Matplotlib v3.6.3, https://matplotlib.org/</dc:title>\n     </cc:Agent>\n    </dc:creator>\n   </cc:Work>\n  </rdf:RDF>\n </metadata>\n <defs>\n  <style type=\"text/css\">*{stroke-linejoin: round; stroke-linecap: butt}</style>\n </defs>\n <g id=\"figure_1\">\n  <g id=\"patch_1\">\n   <path d=\"M -0 284.012 \nL 284.012 284.012 \nL 284.012 0 \nL -0 0 \nz\n\" style=\"fill: #ffffff\"/>\n  </g>\n  <g id=\"axes_1\">\n   <g id=\"patch_2\">\n    <path d=\"M 10.7 273.312 \nL 276.812 273.312 \nL 276.812 7.2 \nL 10.7 7.2 \nz\n\" style=\"fill: #ffffff\"/>\n   </g>\n   <g id=\"patch_3\">\n    <path d=\"M 22.796 261.216 \nL 264.716 261.216 \nL 264.716 19.296 \nL 22.796 19.296 \nz\n\" clip-path=\"url(#pa2be85392e)\" style=\"fill: #999999\"/>\n   </g>\n   <g id=\"patch_4\">\n    <path d=\"M 46.988 147.99744 \nC 49.041054 147.99744 51.010296 147.181753 52.462025 145.730025 \nC 53.913753 144.278296 54.72944 142.309054 54.72944 140.256 \nC 54.72944 138.202946 53.913753 136.233704 52.462025 134.781975 \nC 51.010296 133.330247 49.041054 132.51456 46.988 132.51456 \nC 44.934946 132.51456 42.965704 133.330247 41.513975 134.781975 \nC 40.062247 136.233704 39.24656 138.202946 39.24656 140.256 \nC 39.24656 142.309054 40.062247 144.278296 41.513975 145.730025 \nC 42.965704 147.181753 44.934946 147.99744 46.988 147.99744 \nz\n\" clip-path=\"url(#pa2be85392e)\" style=\"fill: #ffff00\"/>\n   </g>\n   <g id=\"patch_5\">\n    <path d=\"M 46.988 147.99744 \nC 49.041054 147.99744 51.010296 147.181753 52.462025 145.730025 \nC 53.913753 144.278296 54.72944 142.309054 54.72944 140.256 \nC 54.72944 138.202946 53.913753 136.233704 52.462025 134.781975 \nC 51.010296 133.330247 49.041054 132.51456 46.988 132.51456 \nC 44.934946 132.51456 42.965704 133.330247 41.513975 134.781975 \nC 40.062247 136.233704 39.24656 138.202946 39.24656 140.256 \nC 39.24656 142.309054 40.062247 144.278296 41.513975 145.730025 \nC 42.965704 147.181753 44.934946 147.99744 46.988 147.99744 \nz\n\" clip-path=\"url(#pa2be85392e)\" style=\"fill: #ff0000\"/>\n   </g>\n   <g id=\"patch_6\">\n    <path d=\"M 95.372 64.193894 \nC 97.425054 64.193894 99.394296 63.378207 100.846025 61.926478 \nC 102.297753 60.47475 103.11344 58.505508 103.11344 56.452454 \nC 103.11344 54.3994 102.297753 52.430157 100.846025 50.978429 \nC 99.394296 49.526701 97.425054 48.711014 95.372 48.711014 \nC 93.318946 48.711014 91.349704 49.526701 89.897975 50.978429 \nC 88.446247 52.430157 87.63056 54.3994 87.63056 56.452454 \nC 87.63056 58.505508 88.446247 60.47475 89.897975 61.926478 \nC 91.349704 63.378207 93.318946 64.193894 95.372 64.193894 \nz\n\" clip-path=\"url(#pa2be85392e)\" style=\"fill: #ffff00\"/>\n   </g>\n   <g id=\"patch_7\">\n    <path d=\"M 192.14 64.193894 \nC 194.193054 64.193894 196.162296 63.378207 197.614025 61.926478 \nC 199.065753 60.47475 199.88144 58.505508 199.88144 56.452454 \nC 199.88144 54.3994 199.065753 52.430157 197.614025 50.978429 \nC 196.162296 49.526701 194.193054 48.711014 192.14 48.711014 \nC 190.086946 48.711014 188.117704 49.526701 186.665975 50.978429 \nC 185.214247 52.430157 184.39856 54.3994 184.39856 56.452454 \nC 184.39856 58.505508 185.214247 60.47475 186.665975 61.926478 \nC 188.117704 63.378207 190.086946 64.193894 192.14 64.193894 \nz\n\" clip-path=\"url(#pa2be85392e)\" style=\"fill: #ffff00\"/>\n   </g>\n   <g id=\"patch_8\">\n    <path d=\"M 227.559546 99.61344 \nC 229.6126 99.61344 231.581843 98.797753 233.033571 97.346025 \nC 234.485299 95.894296 235.300986 93.925054 235.300986 91.872 \nC 235.300986 89.818946 234.485299 87.849704 233.033571 86.397975 \nC 231.581843 84.946247 229.6126 84.13056 227.559546 84.13056 \nC 225.506492 84.13056 223.53725 84.946247 222.085522 86.397975 \nC 220.633793 87.849704 219.818106 89.818946 219.818106 91.872 \nC 219.818106 93.925054 220.633793 95.894296 222.085522 97.346025 \nC 223.53725 98.797753 225.506492 99.61344 227.559546 99.61344 \nz\n\" clip-path=\"url(#pa2be85392e)\" style=\"fill: #ffff00\"/>\n   </g>\n   <g id=\"patch_9\">\n    <path d=\"M 227.559546 196.38144 \nC 229.6126 196.38144 231.581843 195.565753 233.033571 194.114025 \nC 234.485299 192.662296 235.300986 190.693054 235.300986 188.64 \nC 235.300986 186.586946 234.485299 184.617704 233.033571 183.165975 \nC 231.581843 181.714247 229.6126 180.89856 227.559546 180.89856 \nC 225.506492 180.89856 223.53725 181.714247 222.085522 183.165975 \nC 220.633793 184.617704 219.818106 186.586946 219.818106 188.64 \nC 219.818106 190.693054 220.633793 192.662296 222.085522 194.114025 \nC 223.53725 195.565753 225.506492 196.38144 227.559546 196.38144 \nz\n\" clip-path=\"url(#pa2be85392e)\" style=\"fill: #ffff00\"/>\n   </g>\n   <g id=\"patch_10\">\n    <path d=\"M 143.756 244.76544 \nC 145.809054 244.76544 147.778296 243.949753 149.230025 242.498025 \nC 150.681753 241.046296 151.49744 239.077054 151.49744 237.024 \nC 151.49744 234.970946 150.681753 233.001704 149.230025 231.549975 \nC 147.778296 230.098247 145.809054 229.28256 143.756 229.28256 \nC 141.702946 229.28256 139.733704 230.098247 138.281975 231.549975 \nC 136.830247 233.001704 136.01456 234.970946 136.01456 237.024 \nC 136.01456 239.077054 136.830247 241.046296 138.281975 242.498025 \nC 139.733704 243.949753 141.702946 244.76544 143.756 244.76544 \nz\n\" clip-path=\"url(#pa2be85392e)\" style=\"fill: #ffff00\"/>\n   </g>\n   <g id=\"patch_11\">\n    <path d=\"M 59.952454 196.38144 \nC 62.005508 196.38144 63.97475 195.565753 65.426478 194.114025 \nC 66.878207 192.662296 67.693894 190.693054 67.693894 188.64 \nC 67.693894 186.586946 66.878207 184.617704 65.426478 183.165975 \nC 63.97475 181.714247 62.005508 180.89856 59.952454 180.89856 \nC 57.8994 180.89856 55.930157 181.714247 54.478429 183.165975 \nC 53.026701 184.617704 52.211014 186.586946 52.211014 188.64 \nC 52.211014 190.693054 53.026701 192.662296 54.478429 194.114025 \nC 55.930157 195.565753 57.8994 196.38144 59.952454 196.38144 \nz\n\" clip-path=\"url(#pa2be85392e)\" style=\"fill: #ffff00\"/>\n   </g>\n   <g id=\"line2d_1\">\n    <path d=\"M 143.756 43.488 \nL 153.390981 43.968862 \nL 162.930206 45.406669 \nL 172.278869 47.787131 \nL 181.344058 51.08659 \nL 190.035681 55.272255 \nL 198.267355 60.302526 \nL 205.957271 66.127411 \nL 213.029003 72.68902 \nL 219.412269 79.922139 \nL 225.043629 87.754883 \nL 229.867115 96.109407 \nL 233.834791 104.90268 \nL 236.907223 114.04731 \nL 239.053877 123.452413 \nL 240.253417 133.024518 \nL 240.493923 142.668493 \nL 239.773004 152.288492 \nL 238.097824 161.788906 \nL 235.485033 171.075316 \nL 231.960598 180.05543 \nL 227.559546 188.64 \nL 222.325617 196.743708 \nL 216.310827 204.286015 \nL 209.574955 211.191964 \nL 202.184945 217.392918 \nL 194.214242 222.827252 \nL 185.742062 227.440955 \nL 176.852605 231.188176 \nL 167.63422 234.031671 \nL 158.178522 235.943181 \nL 148.579487 236.90371 \nL 138.932513 236.90371 \nL 129.333478 235.943181 \nL 119.87778 234.031671 \nL 110.659395 231.188176 \nL 101.769938 227.440955 \nL 93.297758 222.827252 \nL 85.327055 217.392918 \nL 77.937045 211.191964 \nL 71.201173 204.286015 \nL 65.186383 196.743708 \nL 59.952454 188.64 \nL 55.551402 180.05543 \nL 52.026967 171.075316 \nL 49.414176 161.788906 \nL 47.738996 152.288492 \nL 47.018077 142.668493 \nL 47.258583 133.024518 \nL 48.458123 123.452413 \nL 50.604777 114.04731 \nL 53.677209 104.90268 \nL 57.644885 96.109407 \nL 62.468371 87.754883 \nL 68.099731 79.922139 \nL 74.482997 72.68902 \nL 81.554729 66.127411 \nL 89.244645 60.302526 \nL 97.476319 55.272255 \nL 106.167942 51.08659 \nL 115.233131 47.787131 \nL 124.581794 45.406669 \nL 134.121019 43.968862 \nL 143.756 43.488 \n\" clip-path=\"url(#pa2be85392e)\" style=\"fill: none; stroke: #000000; stroke-width: 1.5; stroke-linecap: square\"/>\n   </g>\n   <g id=\"line2d_2\">\n    <defs>\n     <path id=\"m99caee0cb5\" d=\"M 0 1.5 \nC 0.397805 1.5 0.77937 1.341951 1.06066 1.06066 \nC 1.341951 0.77937 1.5 0.397805 1.5 0 \nC 1.5 -0.397805 1.341951 -0.77937 1.06066 -1.06066 \nC 0.77937 -1.341951 0.397805 -1.5 0 -1.5 \nC -0.397805 -1.5 -0.77937 -1.341951 -1.06066 -1.06066 \nC -1.341951 -0.77937 -1.5 -0.397805 -1.5 0 \nC -1.5 0.397805 -1.341951 0.77937 -1.06066 1.06066 \nC -0.77937 1.341951 -0.397805 1.5 0 1.5 \nz\n\" style=\"stroke: #ffffff\"/>\n    </defs>\n    <g clip-path=\"url(#pa2be85392e)\">\n     <use xlink:href=\"#m99caee0cb5\" x=\"143.756\" y=\"43.488\" style=\"fill: #ffffff; stroke: #ffffff\"/>\n     <use xlink:href=\"#m99caee0cb5\" x=\"192.14\" y=\"56.452454\" style=\"fill: #ffffff; stroke: #ffffff\"/>\n     <use xlink:href=\"#m99caee0cb5\" x=\"227.559546\" y=\"91.872\" style=\"fill: #ffffff; stroke: #ffffff\"/>\n     <use xlink:href=\"#m99caee0cb5\" x=\"240.524\" y=\"140.256\" style=\"fill: #ffffff; stroke: #ffffff\"/>\n     <use xlink:href=\"#m99caee0cb5\" x=\"227.559546\" y=\"188.64\" style=\"fill: #ffffff; stroke: #ffffff\"/>\n     <use xlink:href=\"#m99caee0cb5\" x=\"192.14\" y=\"224.059546\" style=\"fill: #ffffff; stroke: #ffffff\"/>\n     <use xlink:href=\"#m99caee0cb5\" x=\"143.756\" y=\"237.024\" style=\"fill: #ffffff; stroke: #ffffff\"/>\n     <use xlink:href=\"#m99caee0cb5\" x=\"95.372\" y=\"224.059546\" style=\"fill: #ffffff; stroke: #ffffff\"/>\n     <use xlink:href=\"#m99caee0cb5\" x=\"59.952454\" y=\"188.64\" style=\"fill: #ffffff; stroke: #ffffff\"/>\n     <use xlink:href=\"#m99caee0cb5\" x=\"46.988\" y=\"140.256\" style=\"fill: #ffffff; stroke: #ffffff\"/>\n     <use xlink:href=\"#m99caee0cb5\" x=\"59.952454\" y=\"91.872\" style=\"fill: #ffffff; stroke: #ffffff\"/>\n     <use xlink:href=\"#m99caee0cb5\" x=\"95.372\" y=\"56.452454\" style=\"fill: #ffffff; stroke: #ffffff\"/>\n     <use xlink:href=\"#m99caee0cb5\" x=\"143.756\" y=\"43.488\" style=\"fill: #ffffff; stroke: #ffffff\"/>\n    </g>\n   </g>\n   <g id=\"patch_12\">\n    <path d=\"M 10.7 273.312 \nL 10.7 7.2 \n\" style=\"fill: none; stroke: #000000; stroke-width: 0.8; stroke-linejoin: miter; stroke-linecap: square\"/>\n   </g>\n   <g id=\"patch_13\">\n    <path d=\"M 276.812 273.312 \nL 276.812 7.2 \n\" style=\"fill: none; stroke: #000000; stroke-width: 0.8; stroke-linejoin: miter; stroke-linecap: square\"/>\n   </g>\n   <g id=\"patch_14\">\n    <path d=\"M 10.7 273.312 \nL 276.812 273.312 \n\" style=\"fill: none; stroke: #000000; stroke-width: 0.8; stroke-linejoin: miter; stroke-linecap: square\"/>\n   </g>\n   <g id=\"patch_15\">\n    <path d=\"M 10.7 7.2 \nL 276.812 7.2 \n\" style=\"fill: none; stroke: #000000; stroke-width: 0.8; stroke-linejoin: miter; stroke-linecap: square\"/>\n   </g>\n   <g id=\"text_1\">\n    <!-- A -->\n    <g transform=\"translate(32.4728 140.256) scale(0.1 -0.1)\">\n     <defs>\n      <path id=\"DejaVuSans-41\" d=\"M 2188 4044 \nL 1331 1722 \nL 3047 1722 \nL 2188 4044 \nz\nM 1831 4666 \nL 2547 4666 \nL 4325 0 \nL 3669 0 \nL 3244 1197 \nL 1141 1197 \nL 716 0 \nL 50 0 \nL 1831 4666 \nz\n\" transform=\"scale(0.015625)\"/>\n     </defs>\n     <use xlink:href=\"#DejaVuSans-41\"/>\n    </g>\n   </g>\n   <g id=\"text_2\">\n    <!-- A -->\n    <g transform=\"translate(32.4728 140.256) scale(0.1 -0.1)\">\n     <use xlink:href=\"#DejaVuSans-41\"/>\n    </g>\n   </g>\n   <g id=\"text_3\">\n    <!-- B -->\n    <g transform=\"translate(88.1144 43.881922) scale(0.1 -0.1)\">\n     <defs>\n      <path id=\"DejaVuSans-42\" d=\"M 1259 2228 \nL 1259 519 \nL 2272 519 \nQ 2781 519 3026 730 \nQ 3272 941 3272 1375 \nQ 3272 1813 3026 2020 \nQ 2781 2228 2272 2228 \nL 1259 2228 \nz\nM 1259 4147 \nL 1259 2741 \nL 2194 2741 \nQ 2656 2741 2882 2914 \nQ 3109 3088 3109 3444 \nQ 3109 3797 2882 3972 \nQ 2656 4147 2194 4147 \nL 1259 4147 \nz\nM 628 4666 \nL 2241 4666 \nQ 2963 4666 3353 4366 \nQ 3744 4066 3744 3513 \nQ 3744 3084 3544 2831 \nQ 3344 2578 2956 2516 \nQ 3422 2416 3680 2098 \nQ 3938 1781 3938 1306 \nQ 3938 681 3513 340 \nQ 3088 0 2303 0 \nL 628 0 \nL 628 4666 \nz\n\" transform=\"scale(0.015625)\"/>\n     </defs>\n     <use xlink:href=\"#DejaVuSans-42\"/>\n    </g>\n   </g>\n   <g id=\"text_4\">\n    <!-- C# -->\n    <g transform=\"translate(199.3976 43.881922) scale(0.1 -0.1)\">\n     <defs>\n      <path id=\"DejaVuSans-43\" d=\"M 4122 4306 \nL 4122 3641 \nQ 3803 3938 3442 4084 \nQ 3081 4231 2675 4231 \nQ 1875 4231 1450 3742 \nQ 1025 3253 1025 2328 \nQ 1025 1406 1450 917 \nQ 1875 428 2675 428 \nQ 3081 428 3442 575 \nQ 3803 722 4122 1019 \nL 4122 359 \nQ 3791 134 3420 21 \nQ 3050 -91 2638 -91 \nQ 1578 -91 968 557 \nQ 359 1206 359 2328 \nQ 359 3453 968 4101 \nQ 1578 4750 2638 4750 \nQ 3056 4750 3426 4639 \nQ 3797 4528 4122 4306 \nz\n\" transform=\"scale(0.015625)\"/>\n      <path id=\"DejaVuSans-23\" d=\"M 3272 2816 \nL 2363 2816 \nL 2100 1772 \nL 3016 1772 \nL 3272 2816 \nz\nM 2803 4594 \nL 2478 3297 \nL 3391 3297 \nL 3719 4594 \nL 4219 4594 \nL 3897 3297 \nL 4872 3297 \nL 4872 2816 \nL 3775 2816 \nL 3519 1772 \nL 4513 1772 \nL 4513 1294 \nL 3397 1294 \nL 3072 0 \nL 2572 0 \nL 2894 1294 \nL 1978 1294 \nL 1656 0 \nL 1153 0 \nL 1478 1294 \nL 494 1294 \nL 494 1772 \nL 1594 1772 \nL 1856 2816 \nL 850 2816 \nL 850 3297 \nL 1978 3297 \nL 2297 4594 \nL 2803 4594 \nz\n\" transform=\"scale(0.015625)\"/>\n     </defs>\n     <use xlink:href=\"#DejaVuSans-43\"/>\n     <use xlink:href=\"#DejaVuSans-23\" x=\"69.824219\"/>\n    </g>\n   </g>\n   <g id=\"text_5\">\n    <!-- D -->\n    <g transform=\"translate(240.130078 84.6144) scale(0.1 -0.1)\">\n     <defs>\n      <path id=\"DejaVuSans-44\" d=\"M 1259 4147 \nL 1259 519 \nL 2022 519 \nQ 2988 519 3436 956 \nQ 3884 1394 3884 2338 \nQ 3884 3275 3436 3711 \nQ 2988 4147 2022 4147 \nL 1259 4147 \nz\nM 628 4666 \nL 1925 4666 \nQ 3281 4666 3915 4102 \nQ 4550 3538 4550 2338 \nQ 4550 1131 3912 565 \nQ 3275 0 1925 0 \nL 628 0 \nL 628 4666 \nz\n\" transform=\"scale(0.015625)\"/>\n     </defs>\n     <use xlink:href=\"#DejaVuSans-44\"/>\n    </g>\n   </g>\n   <g id=\"text_6\">\n    <!-- E -->\n    <g transform=\"translate(240.130078 195.8976) scale(0.1 -0.1)\">\n     <defs>\n      <path id=\"DejaVuSans-45\" d=\"M 628 4666 \nL 3578 4666 \nL 3578 4134 \nL 1259 4134 \nL 1259 2753 \nL 3481 2753 \nL 3481 2222 \nL 1259 2222 \nL 1259 531 \nL 3634 531 \nL 3634 0 \nL 628 0 \nL 628 4666 \nz\n\" transform=\"scale(0.015625)\"/>\n     </defs>\n     <use xlink:href=\"#DejaVuSans-45\"/>\n    </g>\n   </g>\n   <g id=\"text_7\">\n    <!-- F# -->\n    <g transform=\"translate(143.756 251.5392) scale(0.1 -0.1)\">\n     <defs>\n      <path id=\"DejaVuSans-46\" d=\"M 628 4666 \nL 3309 4666 \nL 3309 4134 \nL 1259 4134 \nL 1259 2759 \nL 3109 2759 \nL 3109 2228 \nL 1259 2228 \nL 1259 0 \nL 628 0 \nL 628 4666 \nz\n\" transform=\"scale(0.015625)\"/>\n     </defs>\n     <use xlink:href=\"#DejaVuSans-46\"/>\n     <use xlink:href=\"#DejaVuSans-23\" x=\"57.519531\"/>\n    </g>\n   </g>\n   <g id=\"text_8\">\n    <!-- G# -->\n    <g transform=\"translate(47.381922 195.8976) scale(0.1 -0.1)\">\n     <defs>\n      <path id=\"DejaVuSans-47\" d=\"M 3809 666 \nL 3809 1919 \nL 2778 1919 \nL 2778 2438 \nL 4434 2438 \nL 4434 434 \nQ 4069 175 3628 42 \nQ 3188 -91 2688 -91 \nQ 1594 -91 976 548 \nQ 359 1188 359 2328 \nQ 359 3472 976 4111 \nQ 1594 4750 2688 4750 \nQ 3144 4750 3555 4637 \nQ 3966 4525 4313 4306 \nL 4313 3634 \nQ 3963 3931 3569 4081 \nQ 3175 4231 2741 4231 \nQ 1884 4231 1454 3753 \nQ 1025 3275 1025 2328 \nQ 1025 1384 1454 906 \nQ 1884 428 2741 428 \nQ 3075 428 3337 486 \nQ 3600 544 3809 666 \nz\n\" transform=\"scale(0.015625)\"/>\n     </defs>\n     <use xlink:href=\"#DejaVuSans-47\"/>\n     <use xlink:href=\"#DejaVuSans-23\" x=\"77.490234\"/>\n    </g>\n   </g>\n  </g>\n </g>\n <defs>\n  <clipPath id=\"pa2be85392e\">\n   <rect x=\"10.7\" y=\"7.2\" width=\"266.112\" height=\"266.112\"/>\n  </clipPath>\n </defs>\n</svg>\n",
      "text/plain": [
       "<Figure size 640x480 with 1 Axes>"
      ]
     },
     "metadata": {},
     "output_type": "display_data"
    }
   ],
   "source": [
    "# add a circle around root note!\n",
    "ptchs.makePitchRing(key_inds)"
   ]
  },
  {
   "attachments": {},
   "cell_type": "markdown",
   "metadata": {},
   "source": [
    "And another one:"
   ]
  },
  {
   "cell_type": "code",
   "execution_count": 18,
   "metadata": {},
   "outputs": [
    {
     "name": "stdout",
     "output_type": "stream",
     "text": [
      "[2, 2, 1, 2, 2, 1, 2]\n",
      "[130.81 146.83 164.81 174.61 195.99 220.   233.08 261.62]\n"
     ]
    }
   ],
   "source": [
    "# calculate the elements of the scale from the intervals (a cumulative sum):\n",
    "\n",
    "# intervals = modes_dct['ionian']\n",
    "intervals = modes_dct[\"modes7\"][\"mixolydian\"]\n",
    "print(intervals)\n",
    "\n",
    "root_name = \"C3\"  # taken from pitch_classes\n",
    "root = NameFreq_dict[root_name]\n",
    "\n",
    "elements = ptchs.intervals2elements(intervals)\n",
    "\n",
    "freqs = ptchs.note2freq(elements, v, root)\n",
    "print(freqs)\n"
   ]
  },
  {
   "cell_type": "code",
   "execution_count": 19,
   "metadata": {},
   "outputs": [
    {
     "data": {
      "image/svg+xml": "<?xml version=\"1.0\" encoding=\"utf-8\" standalone=\"no\"?>\n<!DOCTYPE svg PUBLIC \"-//W3C//DTD SVG 1.1//EN\"\n  \"http://www.w3.org/Graphics/SVG/1.1/DTD/svg11.dtd\">\n<svg xmlns:xlink=\"http://www.w3.org/1999/xlink\" width=\"284.012pt\" height=\"284.012pt\" viewBox=\"0 0 284.012 284.012\" xmlns=\"http://www.w3.org/2000/svg\" version=\"1.1\">\n <metadata>\n  <rdf:RDF xmlns:dc=\"http://purl.org/dc/elements/1.1/\" xmlns:cc=\"http://creativecommons.org/ns#\" xmlns:rdf=\"http://www.w3.org/1999/02/22-rdf-syntax-ns#\">\n   <cc:Work>\n    <dc:type rdf:resource=\"http://purl.org/dc/dcmitype/StillImage\"/>\n    <dc:date>2023-02-16T19:18:28.297902</dc:date>\n    <dc:format>image/svg+xml</dc:format>\n    <dc:creator>\n     <cc:Agent>\n      <dc:title>Matplotlib v3.6.3, https://matplotlib.org/</dc:title>\n     </cc:Agent>\n    </dc:creator>\n   </cc:Work>\n  </rdf:RDF>\n </metadata>\n <defs>\n  <style type=\"text/css\">*{stroke-linejoin: round; stroke-linecap: butt}</style>\n </defs>\n <g id=\"figure_1\">\n  <g id=\"patch_1\">\n   <path d=\"M -0 284.012 \nL 284.012 284.012 \nL 284.012 0 \nL -0 0 \nz\n\" style=\"fill: #ffffff\"/>\n  </g>\n  <g id=\"axes_1\">\n   <g id=\"patch_2\">\n    <path d=\"M 10.7 273.312 \nL 276.812 273.312 \nL 276.812 7.2 \nL 10.7 7.2 \nz\n\" style=\"fill: #ffffff\"/>\n   </g>\n   <g id=\"patch_3\">\n    <path d=\"M 22.796 261.216 \nL 264.716 261.216 \nL 264.716 19.296 \nL 22.796 19.296 \nz\n\" clip-path=\"url(#p5ef9404b07)\" style=\"fill: #999999\"/>\n   </g>\n   <g id=\"patch_4\">\n    <path d=\"M 143.756 51.22944 \nC 145.809054 51.22944 147.778296 50.413753 149.230025 48.962025 \nC 150.681753 47.510296 151.49744 45.541054 151.49744 43.488 \nC 151.49744 41.434946 150.681753 39.465704 149.230025 38.013975 \nC 147.778296 36.562247 145.809054 35.74656 143.756 35.74656 \nC 141.702946 35.74656 139.733704 36.562247 138.281975 38.013975 \nC 136.830247 39.465704 136.01456 41.434946 136.01456 43.488 \nC 136.01456 45.541054 136.830247 47.510296 138.281975 48.962025 \nC 139.733704 50.413753 141.702946 51.22944 143.756 51.22944 \nz\n\" clip-path=\"url(#p5ef9404b07)\" style=\"fill: #ffff00\"/>\n   </g>\n   <g id=\"patch_5\">\n    <path d=\"M 143.756 51.22944 \nC 145.809054 51.22944 147.778296 50.413753 149.230025 48.962025 \nC 150.681753 47.510296 151.49744 45.541054 151.49744 43.488 \nC 151.49744 41.434946 150.681753 39.465704 149.230025 38.013975 \nC 147.778296 36.562247 145.809054 35.74656 143.756 35.74656 \nC 141.702946 35.74656 139.733704 36.562247 138.281975 38.013975 \nC 136.830247 39.465704 136.01456 41.434946 136.01456 43.488 \nC 136.01456 45.541054 136.830247 47.510296 138.281975 48.962025 \nC 139.733704 50.413753 141.702946 51.22944 143.756 51.22944 \nz\n\" clip-path=\"url(#p5ef9404b07)\" style=\"fill: #ff0000\"/>\n   </g>\n   <g id=\"patch_6\">\n    <path d=\"M 227.559546 99.61344 \nC 229.6126 99.61344 231.581843 98.797753 233.033571 97.346025 \nC 234.485299 95.894296 235.300986 93.925054 235.300986 91.872 \nC 235.300986 89.818946 234.485299 87.849704 233.033571 86.397975 \nC 231.581843 84.946247 229.6126 84.13056 227.559546 84.13056 \nC 225.506492 84.13056 223.53725 84.946247 222.085522 86.397975 \nC 220.633793 87.849704 219.818106 89.818946 219.818106 91.872 \nC 219.818106 93.925054 220.633793 95.894296 222.085522 97.346025 \nC 223.53725 98.797753 225.506492 99.61344 227.559546 99.61344 \nz\n\" clip-path=\"url(#p5ef9404b07)\" style=\"fill: #ffff00\"/>\n   </g>\n   <g id=\"patch_7\">\n    <path d=\"M 227.559546 196.38144 \nC 229.6126 196.38144 231.581843 195.565753 233.033571 194.114025 \nC 234.485299 192.662296 235.300986 190.693054 235.300986 188.64 \nC 235.300986 186.586946 234.485299 184.617704 233.033571 183.165975 \nC 231.581843 181.714247 229.6126 180.89856 227.559546 180.89856 \nC 225.506492 180.89856 223.53725 181.714247 222.085522 183.165975 \nC 220.633793 184.617704 219.818106 186.586946 219.818106 188.64 \nC 219.818106 190.693054 220.633793 192.662296 222.085522 194.114025 \nC 223.53725 195.565753 225.506492 196.38144 227.559546 196.38144 \nz\n\" clip-path=\"url(#p5ef9404b07)\" style=\"fill: #ffff00\"/>\n   </g>\n   <g id=\"patch_8\">\n    <path d=\"M 192.14 231.800986 \nC 194.193054 231.800986 196.162296 230.985299 197.614025 229.533571 \nC 199.065753 228.081843 199.88144 226.1126 199.88144 224.059546 \nC 199.88144 222.006492 199.065753 220.03725 197.614025 218.585522 \nC 196.162296 217.133793 194.193054 216.318106 192.14 216.318106 \nC 190.086946 216.318106 188.117704 217.133793 186.665975 218.585522 \nC 185.214247 220.03725 184.39856 222.006492 184.39856 224.059546 \nC 184.39856 226.1126 185.214247 228.081843 186.665975 229.533571 \nC 188.117704 230.985299 190.086946 231.800986 192.14 231.800986 \nz\n\" clip-path=\"url(#p5ef9404b07)\" style=\"fill: #ffff00\"/>\n   </g>\n   <g id=\"patch_9\">\n    <path d=\"M 95.372 231.800986 \nC 97.425054 231.800986 99.394296 230.985299 100.846025 229.533571 \nC 102.297753 228.081843 103.11344 226.1126 103.11344 224.059546 \nC 103.11344 222.006492 102.297753 220.03725 100.846025 218.585522 \nC 99.394296 217.133793 97.425054 216.318106 95.372 216.318106 \nC 93.318946 216.318106 91.349704 217.133793 89.897975 218.585522 \nC 88.446247 220.03725 87.63056 222.006492 87.63056 224.059546 \nC 87.63056 226.1126 88.446247 228.081843 89.897975 229.533571 \nC 91.349704 230.985299 93.318946 231.800986 95.372 231.800986 \nz\n\" clip-path=\"url(#p5ef9404b07)\" style=\"fill: #ffff00\"/>\n   </g>\n   <g id=\"patch_10\">\n    <path d=\"M 46.988 147.99744 \nC 49.041054 147.99744 51.010296 147.181753 52.462025 145.730025 \nC 53.913753 144.278296 54.72944 142.309054 54.72944 140.256 \nC 54.72944 138.202946 53.913753 136.233704 52.462025 134.781975 \nC 51.010296 133.330247 49.041054 132.51456 46.988 132.51456 \nC 44.934946 132.51456 42.965704 133.330247 41.513975 134.781975 \nC 40.062247 136.233704 39.24656 138.202946 39.24656 140.256 \nC 39.24656 142.309054 40.062247 144.278296 41.513975 145.730025 \nC 42.965704 147.181753 44.934946 147.99744 46.988 147.99744 \nz\n\" clip-path=\"url(#p5ef9404b07)\" style=\"fill: #ffff00\"/>\n   </g>\n   <g id=\"patch_11\">\n    <path d=\"M 59.952454 99.61344 \nC 62.005508 99.61344 63.97475 98.797753 65.426478 97.346025 \nC 66.878207 95.894296 67.693894 93.925054 67.693894 91.872 \nC 67.693894 89.818946 66.878207 87.849704 65.426478 86.397975 \nC 63.97475 84.946247 62.005508 84.13056 59.952454 84.13056 \nC 57.8994 84.13056 55.930157 84.946247 54.478429 86.397975 \nC 53.026701 87.849704 52.211014 89.818946 52.211014 91.872 \nC 52.211014 93.925054 53.026701 95.894296 54.478429 97.346025 \nC 55.930157 98.797753 57.8994 99.61344 59.952454 99.61344 \nz\n\" clip-path=\"url(#p5ef9404b07)\" style=\"fill: #ffff00\"/>\n   </g>\n   <g id=\"line2d_1\">\n    <path d=\"M 143.756 43.488 \nL 153.390981 43.968862 \nL 162.930206 45.406669 \nL 172.278869 47.787131 \nL 181.344058 51.08659 \nL 190.035681 55.272255 \nL 198.267355 60.302526 \nL 205.957271 66.127411 \nL 213.029003 72.68902 \nL 219.412269 79.922139 \nL 225.043629 87.754883 \nL 229.867115 96.109407 \nL 233.834791 104.90268 \nL 236.907223 114.04731 \nL 239.053877 123.452413 \nL 240.253417 133.024518 \nL 240.493923 142.668493 \nL 239.773004 152.288492 \nL 238.097824 161.788906 \nL 235.485033 171.075316 \nL 231.960598 180.05543 \nL 227.559546 188.64 \nL 222.325617 196.743708 \nL 216.310827 204.286015 \nL 209.574955 211.191964 \nL 202.184945 217.392918 \nL 194.214242 222.827252 \nL 185.742062 227.440955 \nL 176.852605 231.188176 \nL 167.63422 234.031671 \nL 158.178522 235.943181 \nL 148.579487 236.90371 \nL 138.932513 236.90371 \nL 129.333478 235.943181 \nL 119.87778 234.031671 \nL 110.659395 231.188176 \nL 101.769938 227.440955 \nL 93.297758 222.827252 \nL 85.327055 217.392918 \nL 77.937045 211.191964 \nL 71.201173 204.286015 \nL 65.186383 196.743708 \nL 59.952454 188.64 \nL 55.551402 180.05543 \nL 52.026967 171.075316 \nL 49.414176 161.788906 \nL 47.738996 152.288492 \nL 47.018077 142.668493 \nL 47.258583 133.024518 \nL 48.458123 123.452413 \nL 50.604777 114.04731 \nL 53.677209 104.90268 \nL 57.644885 96.109407 \nL 62.468371 87.754883 \nL 68.099731 79.922139 \nL 74.482997 72.68902 \nL 81.554729 66.127411 \nL 89.244645 60.302526 \nL 97.476319 55.272255 \nL 106.167942 51.08659 \nL 115.233131 47.787131 \nL 124.581794 45.406669 \nL 134.121019 43.968862 \nL 143.756 43.488 \n\" clip-path=\"url(#p5ef9404b07)\" style=\"fill: none; stroke: #000000; stroke-width: 1.5; stroke-linecap: square\"/>\n   </g>\n   <g id=\"line2d_2\">\n    <defs>\n     <path id=\"m5325c2260a\" d=\"M 0 1.5 \nC 0.397805 1.5 0.77937 1.341951 1.06066 1.06066 \nC 1.341951 0.77937 1.5 0.397805 1.5 0 \nC 1.5 -0.397805 1.341951 -0.77937 1.06066 -1.06066 \nC 0.77937 -1.341951 0.397805 -1.5 0 -1.5 \nC -0.397805 -1.5 -0.77937 -1.341951 -1.06066 -1.06066 \nC -1.341951 -0.77937 -1.5 -0.397805 -1.5 0 \nC -1.5 0.397805 -1.341951 0.77937 -1.06066 1.06066 \nC -0.77937 1.341951 -0.397805 1.5 0 1.5 \nz\n\" style=\"stroke: #ffffff\"/>\n    </defs>\n    <g clip-path=\"url(#p5ef9404b07)\">\n     <use xlink:href=\"#m5325c2260a\" x=\"143.756\" y=\"43.488\" style=\"fill: #ffffff; stroke: #ffffff\"/>\n     <use xlink:href=\"#m5325c2260a\" x=\"192.14\" y=\"56.452454\" style=\"fill: #ffffff; stroke: #ffffff\"/>\n     <use xlink:href=\"#m5325c2260a\" x=\"227.559546\" y=\"91.872\" style=\"fill: #ffffff; stroke: #ffffff\"/>\n     <use xlink:href=\"#m5325c2260a\" x=\"240.524\" y=\"140.256\" style=\"fill: #ffffff; stroke: #ffffff\"/>\n     <use xlink:href=\"#m5325c2260a\" x=\"227.559546\" y=\"188.64\" style=\"fill: #ffffff; stroke: #ffffff\"/>\n     <use xlink:href=\"#m5325c2260a\" x=\"192.14\" y=\"224.059546\" style=\"fill: #ffffff; stroke: #ffffff\"/>\n     <use xlink:href=\"#m5325c2260a\" x=\"143.756\" y=\"237.024\" style=\"fill: #ffffff; stroke: #ffffff\"/>\n     <use xlink:href=\"#m5325c2260a\" x=\"95.372\" y=\"224.059546\" style=\"fill: #ffffff; stroke: #ffffff\"/>\n     <use xlink:href=\"#m5325c2260a\" x=\"59.952454\" y=\"188.64\" style=\"fill: #ffffff; stroke: #ffffff\"/>\n     <use xlink:href=\"#m5325c2260a\" x=\"46.988\" y=\"140.256\" style=\"fill: #ffffff; stroke: #ffffff\"/>\n     <use xlink:href=\"#m5325c2260a\" x=\"59.952454\" y=\"91.872\" style=\"fill: #ffffff; stroke: #ffffff\"/>\n     <use xlink:href=\"#m5325c2260a\" x=\"95.372\" y=\"56.452454\" style=\"fill: #ffffff; stroke: #ffffff\"/>\n     <use xlink:href=\"#m5325c2260a\" x=\"143.756\" y=\"43.488\" style=\"fill: #ffffff; stroke: #ffffff\"/>\n    </g>\n   </g>\n   <g id=\"patch_12\">\n    <path d=\"M 10.7 273.312 \nL 10.7 7.2 \n\" style=\"fill: none; stroke: #000000; stroke-width: 0.8; stroke-linejoin: miter; stroke-linecap: square\"/>\n   </g>\n   <g id=\"patch_13\">\n    <path d=\"M 276.812 273.312 \nL 276.812 7.2 \n\" style=\"fill: none; stroke: #000000; stroke-width: 0.8; stroke-linejoin: miter; stroke-linecap: square\"/>\n   </g>\n   <g id=\"patch_14\">\n    <path d=\"M 10.7 273.312 \nL 276.812 273.312 \n\" style=\"fill: none; stroke: #000000; stroke-width: 0.8; stroke-linejoin: miter; stroke-linecap: square\"/>\n   </g>\n   <g id=\"patch_15\">\n    <path d=\"M 10.7 7.2 \nL 276.812 7.2 \n\" style=\"fill: none; stroke: #000000; stroke-width: 0.8; stroke-linejoin: miter; stroke-linecap: square\"/>\n   </g>\n   <g id=\"text_1\">\n    <!-- C -->\n    <g transform=\"translate(143.756 28.9728) scale(0.1 -0.1)\">\n     <defs>\n      <path id=\"DejaVuSans-43\" d=\"M 4122 4306 \nL 4122 3641 \nQ 3803 3938 3442 4084 \nQ 3081 4231 2675 4231 \nQ 1875 4231 1450 3742 \nQ 1025 3253 1025 2328 \nQ 1025 1406 1450 917 \nQ 1875 428 2675 428 \nQ 3081 428 3442 575 \nQ 3803 722 4122 1019 \nL 4122 359 \nQ 3791 134 3420 21 \nQ 3050 -91 2638 -91 \nQ 1578 -91 968 557 \nQ 359 1206 359 2328 \nQ 359 3453 968 4101 \nQ 1578 4750 2638 4750 \nQ 3056 4750 3426 4639 \nQ 3797 4528 4122 4306 \nz\n\" transform=\"scale(0.015625)\"/>\n     </defs>\n     <use xlink:href=\"#DejaVuSans-43\"/>\n    </g>\n   </g>\n   <g id=\"text_2\">\n    <!-- C -->\n    <g transform=\"translate(143.756 28.9728) scale(0.1 -0.1)\">\n     <use xlink:href=\"#DejaVuSans-43\"/>\n    </g>\n   </g>\n   <g id=\"text_3\">\n    <!-- D -->\n    <g transform=\"translate(240.130078 84.6144) scale(0.1 -0.1)\">\n     <defs>\n      <path id=\"DejaVuSans-44\" d=\"M 1259 4147 \nL 1259 519 \nL 2022 519 \nQ 2988 519 3436 956 \nQ 3884 1394 3884 2338 \nQ 3884 3275 3436 3711 \nQ 2988 4147 2022 4147 \nL 1259 4147 \nz\nM 628 4666 \nL 1925 4666 \nQ 3281 4666 3915 4102 \nQ 4550 3538 4550 2338 \nQ 4550 1131 3912 565 \nQ 3275 0 1925 0 \nL 628 0 \nL 628 4666 \nz\n\" transform=\"scale(0.015625)\"/>\n     </defs>\n     <use xlink:href=\"#DejaVuSans-44\"/>\n    </g>\n   </g>\n   <g id=\"text_4\">\n    <!-- E -->\n    <g transform=\"translate(240.130078 195.8976) scale(0.1 -0.1)\">\n     <defs>\n      <path id=\"DejaVuSans-45\" d=\"M 628 4666 \nL 3578 4666 \nL 3578 4134 \nL 1259 4134 \nL 1259 2753 \nL 3481 2753 \nL 3481 2222 \nL 1259 2222 \nL 1259 531 \nL 3634 531 \nL 3634 0 \nL 628 0 \nL 628 4666 \nz\n\" transform=\"scale(0.015625)\"/>\n     </defs>\n     <use xlink:href=\"#DejaVuSans-45\"/>\n    </g>\n   </g>\n   <g id=\"text_5\">\n    <!-- F -->\n    <g transform=\"translate(199.3976 236.630078) scale(0.1 -0.1)\">\n     <defs>\n      <path id=\"DejaVuSans-46\" d=\"M 628 4666 \nL 3309 4666 \nL 3309 4134 \nL 1259 4134 \nL 1259 2759 \nL 3109 2759 \nL 3109 2228 \nL 1259 2228 \nL 1259 0 \nL 628 0 \nL 628 4666 \nz\n\" transform=\"scale(0.015625)\"/>\n     </defs>\n     <use xlink:href=\"#DejaVuSans-46\"/>\n    </g>\n   </g>\n   <g id=\"text_6\">\n    <!-- G -->\n    <g transform=\"translate(88.1144 236.630078) scale(0.1 -0.1)\">\n     <defs>\n      <path id=\"DejaVuSans-47\" d=\"M 3809 666 \nL 3809 1919 \nL 2778 1919 \nL 2778 2438 \nL 4434 2438 \nL 4434 434 \nQ 4069 175 3628 42 \nQ 3188 -91 2688 -91 \nQ 1594 -91 976 548 \nQ 359 1188 359 2328 \nQ 359 3472 976 4111 \nQ 1594 4750 2688 4750 \nQ 3144 4750 3555 4637 \nQ 3966 4525 4313 4306 \nL 4313 3634 \nQ 3963 3931 3569 4081 \nQ 3175 4231 2741 4231 \nQ 1884 4231 1454 3753 \nQ 1025 3275 1025 2328 \nQ 1025 1384 1454 906 \nQ 1884 428 2741 428 \nQ 3075 428 3337 486 \nQ 3600 544 3809 666 \nz\n\" transform=\"scale(0.015625)\"/>\n     </defs>\n     <use xlink:href=\"#DejaVuSans-47\"/>\n    </g>\n   </g>\n   <g id=\"text_7\">\n    <!-- A -->\n    <g transform=\"translate(32.4728 140.256) scale(0.1 -0.1)\">\n     <defs>\n      <path id=\"DejaVuSans-41\" d=\"M 2188 4044 \nL 1331 1722 \nL 3047 1722 \nL 2188 4044 \nz\nM 1831 4666 \nL 2547 4666 \nL 4325 0 \nL 3669 0 \nL 3244 1197 \nL 1141 1197 \nL 716 0 \nL 50 0 \nL 1831 4666 \nz\n\" transform=\"scale(0.015625)\"/>\n     </defs>\n     <use xlink:href=\"#DejaVuSans-41\"/>\n    </g>\n   </g>\n   <g id=\"text_8\">\n    <!-- A# -->\n    <g transform=\"translate(47.381922 84.6144) scale(0.1 -0.1)\">\n     <defs>\n      <path id=\"DejaVuSans-23\" d=\"M 3272 2816 \nL 2363 2816 \nL 2100 1772 \nL 3016 1772 \nL 3272 2816 \nz\nM 2803 4594 \nL 2478 3297 \nL 3391 3297 \nL 3719 4594 \nL 4219 4594 \nL 3897 3297 \nL 4872 3297 \nL 4872 2816 \nL 3775 2816 \nL 3519 1772 \nL 4513 1772 \nL 4513 1294 \nL 3397 1294 \nL 3072 0 \nL 2572 0 \nL 2894 1294 \nL 1978 1294 \nL 1656 0 \nL 1153 0 \nL 1478 1294 \nL 494 1294 \nL 494 1772 \nL 1594 1772 \nL 1856 2816 \nL 850 2816 \nL 850 3297 \nL 1978 3297 \nL 2297 4594 \nL 2803 4594 \nz\n\" transform=\"scale(0.015625)\"/>\n     </defs>\n     <use xlink:href=\"#DejaVuSans-41\"/>\n     <use xlink:href=\"#DejaVuSans-23\" x=\"68.408203\"/>\n    </g>\n   </g>\n  </g>\n </g>\n <defs>\n  <clipPath id=\"p5ef9404b07\">\n   <rect x=\"10.7\" y=\"7.2\" width=\"266.112\" height=\"266.112\"/>\n  </clipPath>\n </defs>\n</svg>\n",
      "text/plain": [
       "<Figure size 640x480 with 1 Axes>"
      ]
     },
     "metadata": {},
     "output_type": "display_data"
    }
   ],
   "source": [
    "ptchs.makePitchRing(elements[:-1])\n",
    "# note that because this is starting with C we don't need to rotate it-- \n",
    "# any other key we need to do the rotation shown above"
   ]
  },
  {
   "cell_type": "code",
   "execution_count": null,
   "metadata": {},
   "outputs": [],
   "source": []
  },
  {
   "cell_type": "markdown",
   "metadata": {},
   "source": [
    "# ==========================================================\n",
    "# (6) generating RTcmix scores from simple lists of pitches\n",
    "### same as above but with RTcmix"
   ]
  },
  {
   "cell_type": "code",
   "execution_count": 36,
   "metadata": {},
   "outputs": [],
   "source": [
    "# FUNCTION FOR GENERATING THE RTcmix score !\n",
    "\n",
    "\n",
    "def makeSimpleScore(base_name, time, freqs):\n",
    "    # ====================\n",
    "    score_name = base_name + \".sco\"\n",
    "    print(score_name)\n",
    "    f_out = open(\"./\" + score_name, \"w\")\n",
    "    # YOU MUST DELETE THE SOUND FILE BEFORE RUNNING (either with python or with -clobber )\n",
    "    f_out.write('set_option(\"clobber = on\")\\n')\n",
    "\n",
    "    f_out.write(\"rtsetparams(44100, 2)\\n\")\n",
    "    f_out.write('load(\"WAVETABLE\")\\n')\n",
    "\n",
    "    # output_string = 'rtoutput(\\\"' + base_name + '.wav\\\")\\n'\n",
    "    # don't need the brackets to make it an array !\n",
    "    # f_out.write(output_string)\n",
    "\n",
    "    # ----------------------CHECK IF CMIX COMMAND IS INSTALLED-----------------------\n",
    "    # only use rtoutput if CMIX command is found.\n",
    "    # cmixStatus, cmixResult = sp.getstatusoutput(\"CMIX\")\n",
    "    # the cmixInstalled variable can also be passed from the notebook\n",
    "    # in that is case, the output of sp.getstatusoutput(\"CMIX\") is overridden\n",
    "\n",
    "    if cmixInstalled:\n",
    "        cmixStatus = 0\n",
    "    else:\n",
    "        cmixStatus = 127\n",
    "\n",
    "    if cmixStatus == 0:\n",
    "        output_string = 'rtoutput(\"' + base_name + '.wav\")\\n'\n",
    "        # don't need the brackets to make it an array !\n",
    "        print(\"CMIX found.\")\n",
    "        print(output_string)\n",
    "        f_out.write(output_string)\n",
    "    else:\n",
    "        print(\"CMIX not found; rtoutput() will not be used in score.\")\n",
    "    # ------------------------------------------------------------------------------\n",
    "\n",
    "    f_out.write('waveform = maketable(\"wave\", 1000, 1.0)\\n')\n",
    "    # to add overtones, just add amplitude weights\n",
    "    # f_out.write(\"waveform = maketable(\\\"wave\\\", 1000, 1.0, 0.4, 0.2)\\n\")\n",
    "\n",
    "    f_out.write('ampenv = maketable(\"window\", 1000, \"hamming\")\\n')\n",
    "\n",
    "    # write out the score !\n",
    "    # (start time, duration, amplitude, frequency, channel mix [0 left, 1.0 right],\n",
    "    # table_handle (which waveform to use)\n",
    "\n",
    "    # for now, constants:\n",
    "\n",
    "    # reset(44100) makes it very very smooth...\n",
    "\n",
    "    amp = 10000\n",
    "    mix = 0.5  # 0 = left, 1 = right, but here just 1 channel\n",
    "    tab_han = \"waveform\"\n",
    "\n",
    "    for i, freq_val in enumerate(freqs):\n",
    "        t_start = time[i]\n",
    "        # dur = durations[i]-- here, constant, defined above\n",
    "        dur = 1.4\n",
    "        freq = freq_val\n",
    "        note_string = f\"WAVETABLE({t_start:.3f}, {dur}, {amp}*ampenv, {freq}, {mix}, {tab_han})\\n\"\n",
    "        # note_string = (\n",
    "        #     \"WAVETABLE(\"\n",
    "        #     + str(t_start)\n",
    "        #     + \", \"\n",
    "        #     + str(dur)\n",
    "        #     + \", \"\n",
    "        #     + str(amp)\n",
    "        #     + \"*ampenv\"\n",
    "        #     + \", \"\n",
    "        #     + str(freq)\n",
    "        #     + \", \"\n",
    "        #     + str(mix)\n",
    "        #     + \", \"\n",
    "        #     + tab_han\n",
    "        #     + \")\\n\"\n",
    "        # )\n",
    "        f_out.write(note_string)\n",
    "\n",
    "    f_out.close()\n",
    "    return score_name\n"
   ]
  },
  {
   "cell_type": "code",
   "execution_count": 32,
   "metadata": {},
   "outputs": [
    {
     "name": "stdout",
     "output_type": "stream",
     "text": [
      "mixolydian_C3.sco\n",
      "CMIX found.\n",
      "rtoutput(\"mixolydian_C3.wav\")\n",
      "\n"
     ]
    },
    {
     "data": {
      "text/plain": [
       "'mixolydian_C3.sco'"
      ]
     },
     "execution_count": 32,
     "metadata": {},
     "output_type": "execute_result"
    }
   ],
   "source": [
    "# EXERCISE:  MAKE AN RTCMIX SCORE FROM THIS...\n",
    "base_name = \"mixolydian_C3\"\n",
    "# pluck freqs out of the scale... or calculate freqs with k ?\n",
    "time_sco = np.linspace(0, 10, len(freqs))\n",
    "\n",
    "makeSimpleScore(base_name, time_sco, freqs)\n"
   ]
  },
  {
   "cell_type": "code",
   "execution_count": 33,
   "metadata": {},
   "outputs": [
    {
     "name": "stdout",
     "output_type": "stream",
     "text": [
      "set_option(\"clobber = on\")\n",
      "rtsetparams(44100, 2)\n",
      "load(\"WAVETABLE\")\n",
      "rtoutput(\"mixolydian_C3.wav\")\n",
      "waveform = maketable(\"wave\", 1000, 1.0)\n",
      "ampenv = maketable(\"window\", 1000, \"hamming\")\n",
      "WAVETABLE(0.000, 1.4, 10000*ampenv, 130.81, 0.5, waveform)\n",
      "WAVETABLE(1.429, 1.4, 10000*ampenv, 146.83, 0.5, waveform)\n",
      "WAVETABLE(2.857, 1.4, 10000*ampenv, 164.81, 0.5, waveform)\n",
      "WAVETABLE(4.286, 1.4, 10000*ampenv, 174.61, 0.5, waveform)\n",
      "WAVETABLE(5.714, 1.4, 10000*ampenv, 195.99, 0.5, waveform)\n",
      "WAVETABLE(7.143, 1.4, 10000*ampenv, 220.0, 0.5, waveform)\n",
      "WAVETABLE(8.571, 1.4, 10000*ampenv, 233.08, 0.5, waveform)\n",
      "WAVETABLE(10.000, 1.4, 10000*ampenv, 261.62, 0.5, waveform)\n",
      "\n"
     ]
    }
   ],
   "source": [
    "# READ THE SCORE !\n",
    "\n",
    "scoread = open(base_name + \".sco\")\n",
    "data = scoread.read()\n",
    "print(data)\n"
   ]
  },
  {
   "cell_type": "code",
   "execution_count": 37,
   "metadata": {},
   "outputs": [
    {
     "name": "stdout",
     "output_type": "stream",
     "text": [
      "CMIX < mixolydian_C3.sco\n",
      "--------> RTcmix 5.2.0 (CMIX) <--------\n",
      "============================\n",
      "set_option:  \"clobber = on\" \n",
      "============================\n",
      "rtsetparams:  44100 2 \n",
      "\n",
      "hopefully i just wrote your sound file (mixolydian_C3.wav); is it here?\n",
      "ls: cannot access '*.wav': No such file or directory\n"
     ]
    },
    {
     "name": "stderr",
     "output_type": "stream",
     "text": [
      "Unrecognized output device name '(null)'.\n",
      "*** FATAL ERROR [rtsetparams]:  Failed to create audio device.\n",
      "\n",
      "*** WARNING [parse_score]:  Caught exception: RTcmix system error\n",
      "\n",
      "\n",
      "*** WARNING [parse_score]:  Exit-on-error enabled - exiting\n",
      "\n"
     ]
    }
   ],
   "source": [
    "# play RTcmix score and create a wave file\n",
    "# use CMIX if installed; if not, use pyGoRTcmix\n",
    "abitextra = 0.5\n",
    "dur_sound = time_sco[-1] + abitextra \n",
    "\n",
    "if cmixInstalled:\n",
    "    cmix_cmd = 'CMIX < ' + base_name + '.sco'\n",
    "    print(cmix_cmd)\n",
    "else:\n",
    "    print('using pyGo')\n",
    "    dur = str(dur_sound)\n",
    "    #cmix_cmd = (\n",
    "    # os.path.abspath('../pyGoRTcmix/pyGoRTcmix') + '\n",
    "    # -inputscore '\n",
    "    # + os.path.abspath(base_name + '.sco')\n",
    "    # + ' -output '\n",
    "    # + os.path.abspath(base_name + '.wav')\n",
    "    # + ' -dur '\n",
    "    # + dur\n",
    "    # )\n",
    "    cmix_cmd = (\n",
    "        os.path.abspath('../pyGoRTcmix/Contents/MacOS/pyGoRTcmix')\n",
    "        + ' -inputscore '\n",
    "        + os.path.abspath(base_name + '.sco')\n",
    "        + ' -output '\n",
    "        + os.path.abspath(base_name + '_pyGo.wav')\n",
    "        + ' -dur '\n",
    "        + dur\n",
    "    )\n",
    "   \n",
    "    print(cmix_cmd)\n",
    "\n",
    "runCMIX = sp.Popen(cmix_cmd, shell=True) # if can only be called from a shell, use shell=True\n",
    "\n",
    "runCMIX.wait()\n",
    "print('\\nhopefully i just wrote your sound file (' + base_name + '.wav); is it here?')\n",
    "\n",
    "if sys.platform == 'win32':\n",
    "    ! dir *.wav\n",
    "else:\n",
    "    ! ls *.wav"
   ]
  },
  {
   "cell_type": "code",
   "execution_count": 66,
   "metadata": {},
   "outputs": [],
   "source": [
    "# to automatically move the sound and score files to a different directory: \n",
    "# move_cmd = 'mv ' + base_name + '.* ../3_output_nogit/'\n",
    "# sp.Popen(move_cmd, shell=True)"
   ]
  },
  {
   "cell_type": "code",
   "execution_count": null,
   "metadata": {},
   "outputs": [],
   "source": []
  },
  {
   "attachments": {},
   "cell_type": "markdown",
   "metadata": {},
   "source": [
    "## MICROPROJECT:  \n",
    "(1) Make the note sequence random  <br> \n",
    "(2) Make the note sequence microtonal  <br> \n",
    "(3) Make a rhythm by moving start times  <br> "
   ]
  },
  {
   "cell_type": "code",
   "execution_count": 58,
   "metadata": {},
   "outputs": [],
   "source": [
    "# EXERCISE:  CHANGE THE ROOT NOTE OF THE SCALE ! \n"
   ]
  },
  {
   "cell_type": "code",
   "execution_count": null,
   "metadata": {},
   "outputs": [],
   "source": [
    "# EXERCISE: STRING TOGETHER A SERIES OF SCALES, LOOPING OVER ONE THING TO CHANGE, \n",
    "# such as root note or mode... and make a longer RTcmix score... "
   ]
  },
  {
   "cell_type": "markdown",
   "metadata": {},
   "source": [
    "### (7) Circles of 5ths and 4ths... \n",
    "### (8) More considerations for composing from data.. chords... key changes, microtonal scales... "
   ]
  }
 ],
 "metadata": {
  "anaconda-cloud": {},
  "kernelspec": {
   "display_name": "datamovies",
   "language": "python",
   "name": "python3"
  },
  "language_info": {
   "codemirror_mode": {
    "name": "ipython",
    "version": 3
   },
   "file_extension": ".py",
   "mimetype": "text/x-python",
   "name": "python",
   "nbconvert_exporter": "python",
   "pygments_lexer": "ipython3",
   "version": "3.10.8"
  },
  "vscode": {
   "interpreter": {
    "hash": "f80322a6d8fdff2253ee035a5e6778c4ebb86c43bc22e38b1dce7039cadd95a1"
   }
  }
 },
 "nbformat": 4,
 "nbformat_minor": 4
}

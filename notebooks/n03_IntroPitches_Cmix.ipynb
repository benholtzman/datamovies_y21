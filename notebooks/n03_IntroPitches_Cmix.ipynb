{
 "cells": [
  {
   "attachments": {},
   "cell_type": "markdown",
   "metadata": {},
   "source": [
    "##  Pitches, scales, elements, frequencies, etc. IN RTcmix ! \n",
    "### (1) Pitches, Scales and Modes, now using the modules in \"pitches.py\"\n",
    "### (2) Generating RTcmix scores from lists of pitches"
   ]
  },
  {
   "cell_type": "code",
   "execution_count": 66,
   "metadata": {},
   "outputs": [
    {
     "name": "stdout",
     "output_type": "stream",
     "text": [
      "CMIX found.\n"
     ]
    }
   ],
   "source": [
    "import numpy as np\n",
    "import matplotlib.pyplot as plt\n",
    "%matplotlib inline\n",
    "\n",
    "from subprocess import Popen\n",
    "import subprocess as sp\n",
    "import os\n",
    "import importlib\n",
    "\n",
    "\n",
    "import sys\n",
    "sys.path.append('../modules/')\n",
    "# Contains most of the functions used in the previous notebook: \n",
    "import pitches as ptchs\n",
    "importlib.reload(ptchs)\n",
    "\n",
    "import IPython.display as ipd\n",
    "\n",
    "# _ac stands for autocheck\n",
    "cmixStatus, cmixResult = sp.getstatusoutput(\"CMIX\")\n",
    "if cmixStatus == 0:\n",
    "    cmixInstalled = True\n",
    "    print(\"CMIX found.\")\n",
    "else:\n",
    "    cmixInstalled = False\n",
    "    print(\"CMIX not found, using pyGoRTcmix instead.\")\n",
    "\n",
    "#for testing:\n",
    "# cmixInstalled = False"
   ]
  },
  {
   "attachments": {},
   "cell_type": "markdown",
   "metadata": {},
   "source": [
    "# ==============================================\n",
    "## All the stuff from last notebook \n",
    "### (except for just intonation)\n",
    "### built into the modules in pitches.py"
   ]
  },
  {
   "cell_type": "code",
   "execution_count": 80,
   "metadata": {},
   "outputs": [
    {
     "name": "stdout",
     "output_type": "stream",
     "text": [
      "[ 0  2  4  5  7  9 11 12]\n",
      "[220.   246.94 277.18 293.66 329.63 369.99 415.3  440.  ]\n",
      "['C', 'C#', 'D', 'D#', 'E', 'F', 'F#', 'G', 'G#', 'A', 'A#', 'B']\n",
      "9\n",
      "{'C2': 65.41, 'C#2': 69.3, 'D2': 73.42, 'D#2': 77.78, 'E2': 82.41, 'F2': 87.31, 'F#2': 92.5, 'G2': 98.0, 'G#2': 103.83, 'A2': 110.0, 'A#2': 116.54, 'B2': 123.47, 'C3': 130.81, 'C#3': 138.59, 'D3': 146.83, 'D#3': 155.56, 'E3': 164.81, 'F3': 174.61, 'F#3': 185.0, 'G3': 196.0, 'G#3': 207.65, 'A3': 220.0, 'A#3': 233.08, 'B3': 246.94, 'C4': 261.63, 'C#4': 277.18, 'D4': 293.66, 'D#4': 311.13, 'E4': 329.63, 'F4': 349.23, 'F#4': 369.99, 'G4': 392.0, 'G#4': 415.3, 'A4': 440.0, 'A#4': 466.16, 'B4': 493.88, 'C5': 523.25, 'C#5': 554.37, 'D5': 587.33, 'D#5': 622.25, 'E5': 659.26, 'F5': 698.46, 'F#5': 739.99, 'G5': 783.99, 'G#5': 830.61, 'A5': 880.0, 'A#5': 932.33, 'B5': 987.77, 'C6': 1046.5, 'C#6': 1108.73, 'D6': 1174.66, 'D#6': 1244.51, 'E6': 1318.51, 'F6': 1396.91, 'F#6': 1479.98, 'G6': 1567.98, 'G#6': 1661.22, 'A6': 1760.0, 'A#6': 1864.66, 'B6': 1975.53}\n",
      "modes_dct:  {'modes7': {'ionian': [2, 2, 1, 2, 2, 2, 1], 'dorian': [2, 1, 2, 2, 2, 1, 2], 'phrygian': [1, 2, 2, 2, 1, 2, 2], 'lydian': [2, 2, 2, 1, 2, 2, 1], 'mixolydian': [2, 2, 1, 2, 2, 1, 2], 'aeolian': [2, 1, 2, 2, 1, 2, 2], 'lochrian': [1, 2, 2, 1, 2, 2, 2]}, 'modes8': {'21': [2, 1, 2, 1, 2, 1, 2, 1], '12': [1, 2, 1, 2, 1, 2, 1, 2]}}\n",
      "intervals:  [2, 2, 1, 2, 2, 2, 1]\n",
      "elements:  [ 0  2  4  5  7  9 11 12]\n",
      "key_all_inds:  [9, 10, 11, 0, 1, 2, 3, 4, 5, 6, 7, 8]\n",
      "key_all_names:  ['A', 'A#', 'B', 'C', 'C#', 'D', 'D#', 'E', 'F', 'F#', 'G', 'G#']\n",
      "key_inds:  [9, 11, 1, 2, 4, 6, 8]\n",
      "key_names:  ['A', 'B', 'C#', 'D', 'E', 'F#', 'G#']\n",
      "[220.   246.94 277.18 293.66 329.63 369.99 415.3  440.  ]\n"
     ]
    }
   ],
   "source": [
    "# From the previous notebook: \n",
    "# make a scale (major) from intervals\n",
    "k = np.hstack((0,np.cumsum(np.asarray([2, 2, 1, 2, 2, 2, 1]))))\n",
    "print(k)\n",
    "v = 0\n",
    "root = 220 # A3\n",
    "f = ptchs.note2freq(k,v,root)\n",
    "print(f)\n",
    "\n",
    "# ==============================\n",
    "# Using the functions in \"pitches\" (ptchs) module:\n",
    "pitch_classes = ptchs.make_pitch_classes()\n",
    "print(pitch_classes)\n",
    "key_name = 'A'\n",
    "i_root = pitch_classes.index(key_name)\n",
    "print(i_root)\n",
    "\n",
    "NameFreq_dict = ptchs.pitch_dict()\n",
    "print(NameFreq_dict)\n",
    "\n",
    "root_name = 'A3' # taken from pitch_classes\n",
    "root = NameFreq_dict[root_name]  \n",
    "\n",
    "# call the function to create the dictionary of intervals for a range of modes\n",
    "modes_dct = ptchs.modes()\n",
    "print('modes_dct: ', modes_dct)\n",
    "\n",
    "# extract arrays from the dictionary: \n",
    "intervals = modes_dct['modes7']['ionian']\n",
    "print('intervals: ', intervals)\n",
    "\n",
    "elements = ptchs.intervals2elements(intervals)\n",
    "print('elements: ', elements)\n",
    "#print(type(elements))\n",
    "\n",
    "# -----------------------------\n",
    "# ROTATION for the pitch ring ! \n",
    "key_all_names = []\n",
    "key_all_inds = []\n",
    "for i in range(0,12):\n",
    "    newind = (i_root+i)%12\n",
    "    key_all_inds.append(newind)\n",
    "    key_all_names.append(pitch_classes[newind])  # the % is called \"modulo\" or remainder-- very useful! \n",
    "\n",
    "print('key_all_inds: ', key_all_inds)\n",
    "print('key_all_names: ', key_all_names)\n",
    "key_inds = [key_all_inds[i] for i in elements[:-1]]\n",
    "key_names = [key_all_names[i] for i in elements[:-1]]\n",
    "print('key_inds: ', key_inds)\n",
    "print('key_names: ', key_names)\n",
    "\n",
    "f2 = ptchs.note2freq(elements,v,root)\n",
    "print(f2)\n"
   ]
  },
  {
   "cell_type": "code",
   "execution_count": 55,
   "metadata": {},
   "outputs": [
    {
     "data": {
      "image/png": "[encoded data removed]",
      "text/plain": [
       "<Figure size 500x500 with 1 Axes>"
      ]
     },
     "metadata": {},
     "output_type": "display_data"
    }
   ],
   "source": [
    "fig = plt.figure(figsize=(5,5))\n",
    "\n",
    "plt.plot(elements,f2, 'ro')\n",
    "plt.xlabel('scale element')\n",
    "plt.ylabel('frequency')\n",
    "for i,name in enumerate(key_names):\n",
    "    plt.text(elements[i],f2[i]+5,name)\n",
    "\n",
    "plt.show()"
   ]
  },
  {
   "attachments": {},
   "cell_type": "markdown",
   "metadata": {},
   "source": [
    "### OR, the pitch wheel representation: "
   ]
  },
  {
   "cell_type": "code",
   "execution_count": 67,
   "metadata": {},
   "outputs": [
    {
     "data": {
      "image/png": "[encoded data removed]",
      "text/plain": [
       "<Figure size 640x480 with 1 Axes>"
      ]
     },
     "metadata": {},
     "output_type": "display_data"
    }
   ],
   "source": [
    "# add a circle around root note!\n",
    "ptchs.makePitchRing(key_inds)"
   ]
  },
  {
   "attachments": {},
   "cell_type": "markdown",
   "metadata": {},
   "source": [
    "And another one:"
   ]
  },
  {
   "cell_type": "code",
   "execution_count": 81,
   "metadata": {},
   "outputs": [
    {
     "name": "stdout",
     "output_type": "stream",
     "text": [
      "[2, 2, 1, 2, 2, 1, 2]\n",
      "[130.81 146.83 164.81 174.61 195.99 220.   233.08 261.62]\n"
     ]
    }
   ],
   "source": [
    "# calculate the elements of the scale from the intervals (a cumulative sum): \n",
    "\n",
    "#intervals = modes_dct['ionian']\n",
    "intervals = modes_dct['modes7']['mixolydian']\n",
    "print(intervals)\n",
    "\n",
    "root_name = 'C3' # taken from pitch_classes\n",
    "root = NameFreq_dict[root_name]\n",
    "\n",
    "elements = ptchs.intervals2elements(intervals)\n",
    "\n",
    "freqs = ptchs.note2freq(elements,v,root)\n",
    "print(freqs)"
   ]
  },
  {
   "cell_type": "code",
   "execution_count": 77,
   "metadata": {},
   "outputs": [
    {
     "data": {
      "image/png": "[encoded data removed]",
      "text/plain": [
       "<Figure size 640x480 with 1 Axes>"
      ]
     },
     "metadata": {},
     "output_type": "display_data"
    }
   ],
   "source": [
    "ptchs.makePitchRing(elements[:-1])\n",
    "# note that because this is starting with C we don't need to rotate it-- \n",
    "# any other key we need to do the rotation shown above"
   ]
  },
  {
   "cell_type": "code",
   "execution_count": null,
   "metadata": {},
   "outputs": [],
   "source": []
  },
  {
   "cell_type": "markdown",
   "metadata": {},
   "source": [
    "# ==========================================================\n",
    "# (6) generating RTcmix scores from simple lists of pitches\n",
    "### same as above but with RTcmix"
   ]
  },
  {
   "cell_type": "code",
   "execution_count": 82,
   "metadata": {},
   "outputs": [],
   "source": [
    "# FUNCTION FOR GENERATING THE RTcmix score ! \n",
    "\n",
    "def makeSimpleScore(base_name,time,freqs):\n",
    "    # ====================\n",
    "    score_name = base_name + '.sco'\n",
    "    print(score_name)\n",
    "    f_out = open(\"./\" + score_name , 'w')\n",
    "    # YOU MUST DELETE THE SOUND FILE BEFORE RUNNING (either with python or with -clobber )\n",
    "    f_out.write(\"set_option(\\\"clobber = on\\\")\\n\")\n",
    "\n",
    "    f_out.write(\"rtsetparams(44100, 2)\\n\")\n",
    "    f_out.write(\"load(\\\"WAVETABLE\\\")\\n\")\n",
    "\n",
    "    # output_string = 'rtoutput(\\\"' + base_name + '.wav\\\")\\n'  \n",
    "    # don't need the brackets to make it an array ! \n",
    "    # f_out.write(output_string)\n",
    "\n",
    "    #----------------------CHECK IF CMIX COMMAND IS INSTALLED-----------------------\n",
    "    #only use rtoutput if CMIX command is found.\n",
    "    cmixStatus, cmixResult = sp.getstatusoutput(\"CMIX\")\n",
    "    #the cmixInstalled variable can also be passed from the notebook\n",
    "    #in that is case, the output of sp.getstatusoutput(\"CMIX\") is overridden\n",
    "\n",
    "    if cmixInstalled:\n",
    "        cmixStatus = 0\n",
    "    else:\n",
    "        cmixStatus = 127\n",
    "\n",
    "    if cmixStatus == 0:\n",
    "        output_string = 'rtoutput(\\\"' + base_name + '.wav\\\")\\n'\n",
    "        # don't need the brackets to make it an array !\n",
    "        print(\"CMIX found.\")\n",
    "        print(output_string)\n",
    "        f_out.write(output_string)\n",
    "    else:\n",
    "        print(\"CMIX not found; rtoutput() will not be used in score.\")\n",
    "    #------------------------------------------------------------------------------\n",
    "    \n",
    "    f_out.write(\"waveform = maketable(\\\"wave\\\", 1000, 1.0)\\n\")\n",
    "    # to add overtones, just add amplitude weights\n",
    "    #f_out.write(\"waveform = maketable(\\\"wave\\\", 1000, 1.0, 0.4, 0.2)\\n\")\n",
    "\n",
    "    f_out.write(\"ampenv = maketable(\\\"window\\\", 1000, \\\"hamming\\\")\\n\")    \n",
    "\n",
    "    # write out the score ! \n",
    "    # (start time, duration, amplitude, frequency, channel mix [0 left, 1.0 right],\n",
    "    # table_handle (which waveform to use)\n",
    "\n",
    "    # for now, constants: \n",
    "            \n",
    "    # reset(44100) makes it very very smooth... \n",
    "            \n",
    "    amp = 10000 \n",
    "    mix = 0.5 # 0 = left, 1 = right, but here just 1 channel\n",
    "    tab_han = 'waveform'\n",
    "\n",
    "    for i,freq_val in enumerate(freqs):\n",
    "        t_start = time[i]\n",
    "        # dur = durations[i]-- here, constant, defined above\n",
    "        dur = 1.4\n",
    "        freq = freq_val\n",
    "        note_string = 'WAVETABLE(' + str(t_start) + ', ' \\\n",
    "                  + str(dur)  + ', ' + str(amp)+ '*ampenv' + ', ' \\\n",
    "                  + str(freq)  + ', ' + str(mix)  + ', ' \\\n",
    "                  +  tab_han + ')\\n' \n",
    "        f_out.write(note_string)\n",
    "        \n",
    "    f_out.close()\n",
    "    return score_name\n",
    "\n"
   ]
  },
  {
   "cell_type": "code",
   "execution_count": 84,
   "metadata": {},
   "outputs": [
    {
     "name": "stdout",
     "output_type": "stream",
     "text": [
      "mixolydian_C3.sco\n",
      "CMIX found.\n",
      "rtoutput(\"mixolydian_C3.wav\")\n",
      "\n"
     ]
    },
    {
     "data": {
      "text/plain": [
       "'mixolydian_C3.sco'"
      ]
     },
     "execution_count": 84,
     "metadata": {},
     "output_type": "execute_result"
    }
   ],
   "source": [
    "# EXERCISE:  MAKE AN RTCMIX SCORE FROM THIS... \n",
    "base_name = 'mixolydian_C3'\n",
    "# pluck freqs out of the scale... or calculate freqs with k ? \n",
    "time_sco = np.linspace(0,10,len(freqs))\n",
    "\n",
    "makeSimpleScore(base_name,time_sco,freqs)"
   ]
  },
  {
   "cell_type": "code",
   "execution_count": 85,
   "metadata": {},
   "outputs": [
    {
     "name": "stdout",
     "output_type": "stream",
     "text": [
      "set_option(\"clobber = on\")\n",
      "rtsetparams(44100, 2)\n",
      "load(\"WAVETABLE\")\n",
      "rtoutput(\"mixolydian_C3.wav\")\n",
      "waveform = maketable(\"wave\", 1000, 1.0)\n",
      "ampenv = maketable(\"window\", 1000, \"hamming\")\n",
      "WAVETABLE(0.0, 1.4, 10000*ampenv, 130.81, 0.5, waveform)\n",
      "WAVETABLE(1.4285714285714286, 1.4, 10000*ampenv, 146.83, 0.5, waveform)\n",
      "WAVETABLE(2.857142857142857, 1.4, 10000*ampenv, 164.81, 0.5, waveform)\n",
      "WAVETABLE(4.285714285714286, 1.4, 10000*ampenv, 174.61, 0.5, waveform)\n",
      "WAVETABLE(5.714285714285714, 1.4, 10000*ampenv, 195.99, 0.5, waveform)\n",
      "WAVETABLE(7.142857142857143, 1.4, 10000*ampenv, 220.0, 0.5, waveform)\n",
      "WAVETABLE(8.571428571428571, 1.4, 10000*ampenv, 233.08, 0.5, waveform)\n",
      "WAVETABLE(10.0, 1.4, 10000*ampenv, 261.62, 0.5, waveform)\n",
      "\n"
     ]
    }
   ],
   "source": [
    "# READ THE SCORE ! \n",
    "\n",
    "scoread = open(base_name+'.sco')\n",
    "data = scoread.read()\n",
    "print(data)\n"
   ]
  },
  {
   "cell_type": "code",
   "execution_count": 86,
   "metadata": {},
   "outputs": [
    {
     "name": "stdout",
     "output_type": "stream",
     "text": [
      "CMIX < mixolydian_C3.sco\n",
      "--------> RTcmix 5.2.0 (CMIX) <--------\n",
      "============================\n",
      "set_option:  \"clobber = on\" \n",
      "============================\n",
      "rtsetparams:  44100 2 \n",
      "rtsetparams:  Audio set:  44100 sampling rate, 2 channels\n",
      "\n",
      "============================\n",
      "load:  \"WAVETABLE\" \n",
      "load:  Loaded RT functions from shared library:\n",
      "\t'/Users/ben/RTcmix/shlib/libWAVETABLE.so'.\n",
      "============================\n",
      "rtoutput:  \"mixolydian_C3.wav\" \n",
      "Output file set for writing:\n",
      "      name:  mixolydian_C3.wav\n",
      "      type:  RIFF\n",
      "    format:  little endian short (16 bits)\n",
      "     srate:  44100\n",
      "     chans:  2\n",
      "============================\n",
      "maketable:  \"wave\" 1000 1 \n",
      "============================\n",
      "maketable:  \"window\" 1000 \"hamming\" \n",
      "============================\n",
      "WAVETABLE:  0 1.4 PF:[800,...,800.091] 130.81 0.5 PF:[0,...,-0.00628314] \n",
      "No bus_config defined, setting default (in/out).\n",
      "default: () => WAVETABLE => (out 0-1)\n",
      "\n",
      "============================\n",
      "WAVETABLE:  1.42857 1.4 PF:[800,...,800.091] 146.83 0.5 PF:[0,...,-0.00628314] \n",
      "============================\n",
      "WAVETABLE:  2.85714 1.4 PF:[800,...,800.091] 164.81 0.5 PF:[0,...,-0.00628314] \n",
      "============================\n",
      "WAVETABLE:  4.28571 1.4 PF:[800,...,800.091] 174.61 0.5 PF:[0,...,-0.00628314] \n",
      "============================\n",
      "WAVETABLE:  5.71429 1.4 PF:[800,...,800.091] 195.99 0.5 PF:[0,...,-0.00628314] \n",
      "============================\n",
      "WAVETABLE:  7.14286 1.4 PF:[800,...,800.091] 220 0.5 PF:[0,...,-0.00628314] \n",
      "============================\n",
      "WAVETABLE:  8.57143 1.4 PF:[800,...,800.091] 233.08 0.5 PF:[0,...,-0.00628314] \n",
      "============================\n",
      "WAVETABLE:  10 1.4 PF:[800,...,800.091] 261.62 0.5 PF:[0,...,-0.00628314] \n",
      "Playing...\n",
      "\n",
      "closing...\n",
      "Output duration: 11.41 seconds\n",
      "\n",
      "Peak amplitudes of output:\n",
      "  channel 0:  4999.926270 (-16.33 dBFS) at frame 219876 (4.98585 seconds)\n",
      "  channel 1:  4999.926270 (-16.33 dBFS) at frame 219876 (4.98585 seconds)\n",
      "\n",
      "\n",
      "hopefully i just wrote your sound file (mixolydian_C3.wav); is it here?\n",
      "ionian_c3.wav      ionian_c3_pyGo.wav mixolydian_C3.wav\n"
     ]
    }
   ],
   "source": [
    "# play RTcmix score and create a wave file\n",
    "# use CMIX if installed; if not, use pyGoRTcmix\n",
    "abitextra = 0.5\n",
    "dur_sound = time_sco[-1] + abitextra \n",
    "\n",
    "if cmixInstalled:\n",
    "    cmix_cmd = 'CMIX < ' + base_name + '.sco'\n",
    "    print(cmix_cmd)\n",
    "else:\n",
    "    print('using pyGo')\n",
    "    dur = str(dur_sound)\n",
    "    #cmix_cmd = os.path.abspath('../pyGoRTcmix/pyGoRTcmix') + ' -inputscore ' + os.path.abspath(base_name + '.sco') + ' -output ' + os.path.abspath(base_name + '.wav') + ' -dur ' + dur\n",
    "    cmix_cmd = os.path.abspath('../pyGoRTcmix/Contents/MacOS/pyGoRTcmix') + ' -inputscore ' + os.path.abspath(base_name + '.sco') + ' -output ' + os.path.abspath(base_name + '_pyGo.wav') + ' -dur ' + dur\n",
    "   \n",
    "    print(cmix_cmd)\n",
    "\n",
    "runCMIX = sp.Popen(cmix_cmd, shell=True) # if can only be called from a shell, use shell=True\n",
    "\n",
    "runCMIX.wait()\n",
    "print('\\nhopefully i just wrote your sound file (' + base_name + '.wav); is it here?')\n",
    "\n",
    "if sys.platform == 'win32':\n",
    "    ! dir *.wav\n",
    "else:\n",
    "    ! ls *.wav"
   ]
  },
  {
   "cell_type": "code",
   "execution_count": 66,
   "metadata": {},
   "outputs": [],
   "source": [
    "# to automatically move the sound and score files to a different directory: \n",
    "# move_cmd = 'mv ' + base_name + '.* ../3_output_nogit/'\n",
    "# sp.Popen(move_cmd, shell=True)"
   ]
  },
  {
   "cell_type": "code",
   "execution_count": null,
   "metadata": {},
   "outputs": [],
   "source": []
  },
  {
   "attachments": {},
   "cell_type": "markdown",
   "metadata": {},
   "source": [
    "## MICROPROJECT:  \n",
    "(1) Make the note sequence random  <br> \n",
    "(2) Make the note sequence microtonal  <br> \n",
    "(3) Make a rhythm by moving start times  <br> "
   ]
  },
  {
   "cell_type": "code",
   "execution_count": 58,
   "metadata": {},
   "outputs": [],
   "source": [
    "# EXERCISE:  CHANGE THE ROOT NOTE OF THE SCALE ! \n"
   ]
  },
  {
   "cell_type": "code",
   "execution_count": null,
   "metadata": {},
   "outputs": [],
   "source": [
    "# EXERCISE: STRING TOGETHER A SERIES OF SCALES, LOOPING OVER ONE THING TO CHANGE, \n",
    "# such as root note or mode... and make a longer RTcmix score... "
   ]
  },
  {
   "cell_type": "markdown",
   "metadata": {},
   "source": [
    "### (7) Circles of 5ths and 4ths... \n",
    "### (8) More considerations for composing from data.. chords... key changes, microtonal scales... "
   ]
  }
 ],
 "metadata": {
  "anaconda-cloud": {},
  "kernelspec": {
   "display_name": "datamovies",
   "language": "python",
   "name": "python3"
  },
  "language_info": {
   "codemirror_mode": {
    "name": "ipython",
    "version": 3
   },
   "file_extension": ".py",
   "mimetype": "text/x-python",
   "name": "python",
   "nbconvert_exporter": "python",
   "pygments_lexer": "ipython3",
   "version": "3.10.9"
  },
  "vscode": {
   "interpreter": {
    "hash": "4f1da66e7c9c8d4816e45c99b5ca6676ab0406d3290fd370eaecda92a97048ac"
   }
  }
 },
 "nbformat": 4,
 "nbformat_minor": 4
}

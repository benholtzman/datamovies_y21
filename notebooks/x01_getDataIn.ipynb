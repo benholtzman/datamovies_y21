{
 "cells": [
  {
   "cell_type": "markdown",
   "metadata": {},
   "source": [
    "## Importing data from a file into python... \n",
    "### 1) simplest: a list of ascii numbers\n",
    "### 2) a CSV file (i.e. exported from excel). \n",
    "### 3) a mixture... digging in by \"hand\"\n",
    "### 4) custom formats created in different fields.. "
   ]
  },
  {
   "cell_type": "code",
   "execution_count": 2,
   "metadata": {
    "collapsed": true
   },
   "outputs": [],
   "source": [
    "import numpy as np\n",
    "import matplotlib.pyplot as plt\n",
    "import pandas as pd\n",
    "%matplotlib inline "
   ]
  },
  {
   "cell_type": "code",
   "execution_count": 8,
   "metadata": {
    "collapsed": true
   },
   "outputs": [],
   "source": [
    "path_to_data = '../0_data_examples/other/'"
   ]
  },
  {
   "cell_type": "markdown",
   "metadata": {},
   "source": [
    "# 1) tab delimited ascii (text) of ONLY NUMBERS ! \n",
    "###  np.loadtxt  (https://docs.scipy.org/doc/numpy/reference/generated/numpy.loadtxt.html)"
   ]
  },
  {
   "cell_type": "code",
   "execution_count": 9,
   "metadata": {},
   "outputs": [
    {
     "name": "stdout",
     "output_type": "stream",
     "text": [
      "../0_data_examples/other/simplenums.txt\n"
     ]
    }
   ],
   "source": [
    "# a path to the data and the name of the file ! \n",
    "filename = 'simplenums.txt'\n",
    "open_this = path_to_data + filename\n",
    "print(open_this)"
   ]
  },
  {
   "cell_type": "code",
   "execution_count": 10,
   "metadata": {},
   "outputs": [
    {
     "name": "stdout",
     "output_type": "stream",
     "text": [
      "[[  0.    71.7  409.32]\n",
      " [  1.    72.1  410.31]\n",
      " [  2.    73.9  423.38]\n",
      " [  3.    74.2  437.4 ]\n",
      " [  4.    76.1  442.87]\n",
      " [  5.    76.6  459.2 ]\n",
      " [  6.    79.7  461.9 ]\n",
      " [  7.    80.4  477.33]]\n"
     ]
    }
   ],
   "source": [
    "simpnums = np.loadtxt(open_this)\n",
    "print(simpnums)"
   ]
  },
  {
   "cell_type": "code",
   "execution_count": 13,
   "metadata": {},
   "outputs": [
    {
     "data": {
      "text/plain": [
       "[<matplotlib.lines.Line2D at 0x7f8a3da59fd0>]"
      ]
     },
     "execution_count": 13,
     "metadata": {},
     "output_type": "execute_result"
    },
    {
     "data": {
      "image/png": "[encoded data removed]",
      "text/plain": [
       "<Figure size 432x288 with 1 Axes>"
      ]
     },
     "metadata": {
      "needs_background": "light"
     },
     "output_type": "display_data"
    }
   ],
   "source": [
    "plt.plot(simpnums[:,0], simpnums[:,2],'bo')\n",
    "x = simpnums[:,0]\n",
    "y = simpnums[:,2]\n",
    "plt.plot(x,y,'r--')"
   ]
  },
  {
   "cell_type": "code",
   "execution_count": null,
   "metadata": {
    "collapsed": true
   },
   "outputs": [],
   "source": []
  },
  {
   "cell_type": "markdown",
   "metadata": {},
   "source": [
    "# 2) CSV (comma separated values)\n",
    "### this is what would be exported from a spreadsheet.. an old standard. \n"
   ]
  },
  {
   "cell_type": "markdown",
   "metadata": {},
   "source": [
    "### 1. np.genfromtext  (https://docs.scipy.org/doc/numpy/user/basics.io.genfromtxt.html) "
   ]
  },
  {
   "cell_type": "code",
   "execution_count": 21,
   "metadata": {},
   "outputs": [
    {
     "name": "stdout",
     "output_type": "stream",
     "text": [
      "../0_data_examples/other/argo_profile.csv\n"
     ]
    }
   ],
   "source": [
    "filename = 'argo_profile.csv'\n",
    "open_this = path_to_data + filename\n",
    "print(open_this)"
   ]
  },
  {
   "cell_type": "code",
   "execution_count": 22,
   "metadata": {},
   "outputs": [
    {
     "name": "stdout",
     "output_type": "stream",
     "text": [
      "(100, 7)\n",
      "[ 6.900972e+06  1.125420e+05  3.989000e+01 -2.759400e+01  1.000000e+00\n",
      "  1.373400e+01  3.583500e+01]\n"
     ]
    }
   ],
   "source": [
    "data = np.genfromtxt(open_this, delimiter=',', skip_header=1) \n",
    "# csv: delimiter=','\n",
    "# tab separated values: delimiter='\\t'\n",
    "# skiprow because there is a header\n",
    "print(data.shape)\n",
    "print(data[1,:])"
   ]
  },
  {
   "cell_type": "code",
   "execution_count": 23,
   "metadata": {},
   "outputs": [
    {
     "name": "stdout",
     "output_type": "stream",
     "text": [
      "(6900972., 112542., 39.89, -27.594, 1., 13.734, 35.835)\n",
      "(100,)\n",
      "[('PLATFORM', '<f8'), ('ARGOS_ID', '<f8'), ('LATITUDE', '<f8'), ('LONGITUDE', '<f8'), ('PRES', '<f8'), ('TEMP', '<f8'), ('SAL', '<f8')]\n"
     ]
    }
   ],
   "source": [
    "data_rec = np.genfromtxt(open_this, delimiter=',', names=True) \n",
    "# this last thing makes a \"record array\"; it has a different shape\n",
    "print(data_rec[1])\n",
    "print(data_rec.shape)\n",
    "print(data_rec.dtype)  # this tagging format is called a \"record array\" \n",
    "\n",
    "S = data_rec['SAL'] # using the name (string) as the identifyers of the fields.. \n",
    "T = data_rec['TEMP'] \n",
    "P = data_rec['PRES'] \n",
    "# f8 = 64-bit floating-point number\n",
    "# < = \"little endian\"  "
   ]
  },
  {
   "cell_type": "code",
   "execution_count": 24,
   "metadata": {},
   "outputs": [
    {
     "data": {
      "image/png": "[encoded data removed]",
      "text/plain": [
       "<Figure size 432x288 with 2 Axes>"
      ]
     },
     "metadata": {
      "needs_background": "light"
     },
     "output_type": "display_data"
    }
   ],
   "source": [
    "f,(ax1, ax2) = plt.subplots(1,2)\n",
    "\n",
    "ax1.plot(T,P, 'r-')\n",
    "ax1.invert_yaxis()\n",
    "ax1.set_xlabel('temperature [C]')\n",
    "ax1.set_ylabel('pressure (below ocean surface)')\n",
    "\n",
    "ax2.plot(S,P)\n",
    "ax2.invert_yaxis()\n",
    "ax2.set_xlabel('salinity')\n",
    "ax2.set_ylabel('pressure (below ocean surface)')\n",
    "pos1 = ax2.get_position() # get the original position \n",
    "pos2 = [pos1.x0 + 0.1, pos1.y0, pos1.width, pos1.height] \n",
    "ax2.set_position(pos2) # set a new position\n",
    "\n"
   ]
  },
  {
   "cell_type": "markdown",
   "metadata": {},
   "source": [
    "### 2. python csv module  (https://docs.python.org/3/library/csv.html)\n",
    "#### FYI, but I haven't used it. "
   ]
  },
  {
   "cell_type": "markdown",
   "metadata": {},
   "source": [
    "# PANDAS !! very very useful tools ! "
   ]
  },
  {
   "cell_type": "code",
   "execution_count": 25,
   "metadata": {},
   "outputs": [
    {
     "name": "stdout",
     "output_type": "stream",
     "text": [
      "Index(['PLATFORM', 'ARGOS_ID', 'LATITUDE', 'LONGITUDE', 'PRES', 'TEMP', 'SAL'], dtype='object')\n"
     ]
    }
   ],
   "source": [
    "# pandas read a csv file ! \n",
    "# https://pandas.pydata.org/pandas-docs/stable/reference/api/pandas.read_csv.html\n",
    "# https://data36.com/pandas-tutorial-1-basics-reading-data-files-dataframes-data-selection/\n",
    "\n",
    "# another very useful one is pandas.read_excel() -- \n",
    "\n",
    "# the df indicates \"dataframe\", the standard multi-column structure (and class) in pandas\n",
    "argo_df = pd.read_csv(path_to_data +'argo_profile.csv')\n",
    "print(argo_df.columns)"
   ]
  },
  {
   "cell_type": "code",
   "execution_count": 26,
   "metadata": {},
   "outputs": [
    {
     "data": {
      "image/png": "[encoded data removed]",
      "text/plain": [
       "<Figure size 432x288 with 2 Axes>"
      ]
     },
     "metadata": {
      "needs_background": "light"
     },
     "output_type": "display_data"
    }
   ],
   "source": [
    "f,(ax1, ax2) = plt.subplots(1,2)\n",
    "T = argo_df.TEMP\n",
    "P = argo_df.PRES\n",
    "S = argo_df.SAL\n",
    "\n",
    "ax1.plot(T,P, 'r-')\n",
    "ax1.invert_yaxis()\n",
    "ax1.set_xlabel('temperature [C]')\n",
    "ax1.set_ylabel('pressure (below ocean surface)')\n",
    "\n",
    "ax2.plot(S,P)\n",
    "ax2.invert_yaxis()\n",
    "ax2.set_xlabel('salinity')\n",
    "ax2.set_ylabel('pressure (below ocean surface)')\n",
    "pos1 = ax2.get_position() # get the original position \n",
    "pos2 = [pos1.x0 + 0.1, pos1.y0, pos1.width, pos1.height] \n",
    "ax2.set_position(pos2) # set a new position"
   ]
  },
  {
   "cell_type": "code",
   "execution_count": 27,
   "metadata": {},
   "outputs": [
    {
     "name": "stdout",
     "output_type": "stream",
     "text": [
      "Index(['PLATFORM', 'ARGOS_ID', 'LATITUDE', 'LONGITUDE', 'PRES', 'TEMP', 'SAL'], dtype='object')\n"
     ]
    }
   ],
   "source": [
    "# WRITE A PICKLE ! (PICKLE YOUR PANDA ! )\n",
    "# https://pandas.pydata.org/pandas-docs/stable/reference/api/pandas.DataFrame.to_pickle.html\n",
    "\n",
    "argo_df.to_pickle(path_to_data + 'argo_df.pkl')\n",
    "\n",
    "argo_df_pkld = pd.read_pickle(path_to_data + 'argo_df.pkl' )\n",
    "print(argo_df_pkld.columns)"
   ]
  },
  {
   "cell_type": "code",
   "execution_count": 38,
   "metadata": {},
   "outputs": [
    {
     "name": "stdout",
     "output_type": "stream",
     "text": [
      "Index(['ID', 'date', 'time', 'lat', 'lon', 'depth_km', 'mag1', 'mag2', 'mag3',\n",
      "       'mt1', 'mt2', 'mt3', 'mt4', 'mt5', 'mt6'],\n",
      "      dtype='object')\n"
     ]
    },
    {
     "data": {
      "image/png": "[encoded data removed]",
      "text/plain": [
       "<Figure size 432x288 with 1 Axes>"
      ]
     },
     "metadata": {
      "needs_background": "light"
     },
     "output_type": "display_data"
    }
   ],
   "source": [
    "# read in a text file, with no column headings:\n",
    "\n",
    "eq_cat_df = pd.read_csv(path_to_data + 'parsedCMT_subset.txt', sep = '\\t', header=None)\n",
    "eq_cat_df.columns = ['ID','date','time','lat','lon','depth_km','mag1','mag2','mag3','mt1','mt2','mt3','mt4','mt5','mt6']\n",
    "# check later which types of magnitude they are, and what the moment tensor (mt) components are called, and their sequence\n",
    "print(eq_cat_df.columns)\n",
    "\n",
    "#plt.plot(eq_cat_df.mag1, 'ko');\n",
    "\n",
    "hist = eq_cat_df.mag1.hist(bins=14)"
   ]
  },
  {
   "cell_type": "markdown",
   "metadata": {},
   "source": [
    "# 4) digging in... (by \"hand\") \n",
    "## This part involves opening up the file and reading it line by line, parsing the data as it comes out.. for more flexibility and control.. "
   ]
  },
  {
   "cell_type": "code",
   "execution_count": 39,
   "metadata": {
    "collapsed": true
   },
   "outputs": [],
   "source": [
    "import sys\n",
    "import math\n",
    "import datetime"
   ]
  },
  {
   "cell_type": "code",
   "execution_count": 40,
   "metadata": {
    "collapsed": true
   },
   "outputs": [],
   "source": [
    "# the other way: passing the filename when i call it: \n",
    "def read_file(OpenThisFile): \n",
    "# this is GOOD STYLE (rm), decompose decompose ! \n",
    "# making a separate function because it makes it easier to understand\n",
    "    try:\n",
    "        fi = open(OpenThisFile, 'r')\n",
    "    except IOError: \n",
    "        print('Can\\'t open file...... BUUUUUUUUUTTTT whyyy nnnnooooootttttt ???')\n",
    "        sys.exit(0)\n",
    "    return fi  # means that it exists outside "
   ]
  },
  {
   "cell_type": "code",
   "execution_count": 41,
   "metadata": {
    "collapsed": true
   },
   "outputs": [],
   "source": [
    "def file_len(OpenThisFile):\n",
    "    with open(OpenThisFile) as f:\n",
    "        for i, l in enumerate(f):\n",
    "            pass\n",
    "    return i + 1\n"
   ]
  },
  {
   "cell_type": "code",
   "execution_count": 42,
   "metadata": {},
   "outputs": [],
   "source": [
    "filename = 'parsedCMT_subset.txt'\n",
    "open_this = path_to_data + filename\n",
    "fi = read_file(open_this)"
   ]
  },
  {
   "cell_type": "code",
   "execution_count": 43,
   "metadata": {},
   "outputs": [
    {
     "name": "stdout",
     "output_type": "stream",
     "text": [
      "58\n"
     ]
    }
   ],
   "source": [
    "num_eqs = file_len(open_this)\n",
    "print(num_eqs)"
   ]
  },
  {
   "cell_type": "code",
   "execution_count": 44,
   "metadata": {},
   "outputs": [
    {
     "name": "stdout",
     "output_type": "stream",
     "text": [
      "M010176A\t1976/01/01\t01:29:39.6\t-29.25\t-176.96\t 47.8\t6.2 \t0.0 \t7.25363859485\t202 \t30 \t  93\t 18 \t60 \t  88\n",
      "\n",
      "NO LINE TO READ\n",
      "<class 'float'>\n"
     ]
    }
   ],
   "source": [
    "# NOW LETS GET THE DATA OUT ! \n",
    "\n",
    "# initialize the lists:\n",
    "time_vec = []\n",
    "depth_vec = []\n",
    "Mw_vec = []\n",
    "\n",
    "# ==================================================\n",
    "open_this = path_to_data + filename\n",
    "# for some reason, it seems that the file needs to be read in again, after running once (as if it gets eaten)\n",
    "fi = read_file(open_this)\n",
    "testline = fi.readline()\n",
    "print(testline)\n",
    "\n",
    "#while 1:\n",
    "for i in range(num_eqs): \n",
    "    line = fi.readline()\n",
    "    if not line: \n",
    "        print('NO LINE TO READ')\n",
    "        break\n",
    "    cols = line.split('\\t')\n",
    "\n",
    "    date = cols[1]\n",
    "    time = cols[2]\n",
    "    #print(date)\n",
    "    \n",
    "    year = int(date[0:4])\n",
    "    month = int(date[5:7])\n",
    "    day = int(date[8:10])\n",
    "    hour = int(time[0:2])\n",
    "    minute = int(time[3:5])\n",
    "    second= int(time[6:8])\n",
    "\n",
    "    ## convert to julian day\n",
    "    dt = datetime.datetime(year, month, day)\n",
    "    tt = dt.timetuple()\n",
    "    jDay = tt.tm_yday\n",
    "    #print(jDay)\n",
    "    ## convert to milliseconds:\n",
    "    time_ms = second*1000. + minute*60.*1000. + hour*60.*60.*1000. + jDay*24.*60.*60.*1000. + year*365.25*24.*60.*60.*1000.\n",
    "    #print(time_ms)\n",
    "    \n",
    "    # read in the moment magnitude Mw and depth\n",
    "    Mw = float(cols[8])\n",
    "    depth_km = cols[5]\n",
    "    #print(Mw)\n",
    "\n",
    "    # assign arrays\n",
    "    time_vec.append(time_ms)\n",
    "    Mw_vec.append(Mw)\n",
    "    depth_vec.append(depth_km)\n",
    "\n",
    "    \n",
    "## outside of loop: \n",
    "# convert to np arrays ! \n",
    "print(type(time_ms))\n",
    "time_vec = np.array(time_vec)\n",
    "time_vec_0 = (time_vec - time_vec[0])/(1000*3.14e7)\n",
    "# note that this operation won't work on a list ! \n",
    "\n",
    "#len(time_vec_0)\n",
    "#len(Mw_vec)"
   ]
  },
  {
   "cell_type": "code",
   "execution_count": 45,
   "metadata": {},
   "outputs": [
    {
     "data": {
      "text/plain": [
       "[<matplotlib.lines.Line2D at 0x7f8a3cc28208>]"
      ]
     },
     "execution_count": 45,
     "metadata": {},
     "output_type": "execute_result"
    },
    {
     "data": {
      "image/png": "[encoded data removed]",
      "text/plain": [
       "<Figure size 432x288 with 1 Axes>"
      ]
     },
     "metadata": {
      "needs_background": "light"
     },
     "output_type": "display_data"
    }
   ],
   "source": [
    "plt.plot(time_vec_0,Mw_vec, 'r.')\n"
   ]
  },
  {
   "cell_type": "code",
   "execution_count": null,
   "metadata": {
    "collapsed": true
   },
   "outputs": [],
   "source": []
  }
 ],
 "metadata": {
  "anaconda-cloud": {},
  "kernelspec": {
   "display_name": "Python 3",
   "language": "python",
   "name": "python3"
  },
  "language_info": {
   "codemirror_mode": {
    "name": "ipython",
    "version": 3
   },
   "file_extension": ".py",
   "mimetype": "text/x-python",
   "name": "python",
   "nbconvert_exporter": "python",
   "pygments_lexer": "ipython3",
   "version": "3.7.1"
  }
 },
 "nbformat": 4,
 "nbformat_minor": 2
}
